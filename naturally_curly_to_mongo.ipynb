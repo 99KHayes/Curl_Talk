{
 "cells": [
  {
   "cell_type": "code",
   "execution_count": 2,
   "metadata": {},
   "outputs": [],
   "source": [
    "from bs4 import BeautifulSoup\n",
    "import requests\n",
    "import pandas as pd\n",
    "import pymongo\n",
    "import time\n",
    "import random\n",
    "import pdb\n"
   ]
  },
  {
   "cell_type": "markdown",
   "metadata": {},
   "source": [
    "### Make a list of the urls of the categories in the forum"
   ]
  },
  {
   "cell_type": "code",
   "execution_count": 3,
   "metadata": {},
   "outputs": [
    {
     "data": {
      "text/plain": [
       "['https://curltalk.naturallycurly.com/categories/announcements',\n",
       " 'https://curltalk.naturallycurly.com/categories/newbies-info',\n",
       " 'https://curltalk.naturallycurly.com/categories/introductions',\n",
       " 'https://curltalk.naturallycurly.com/categories/curlmart-news',\n",
       " 'https://curltalk.naturallycurly.com/categories/feedback',\n",
       " 'https://curltalk.naturallycurly.com/categories/c2',\n",
       " 'https://curltalk.naturallycurly.com/categories/c3',\n",
       " 'https://curltalk.naturallycurly.com/categories/c4',\n",
       " 'https://curltalk.naturallycurly.com/categories/general-discussion-about-curly-hair',\n",
       " 'https://curltalk.naturallycurly.com/categories/salon-stylist-chatter',\n",
       " 'https://curltalk.naturallycurly.com/categories/transitioning',\n",
       " 'https://curltalk.naturallycurly.com/categories/thin-thinning-hair',\n",
       " 'https://curltalk.naturallycurly.com/categories/readers-product-reviews',\n",
       " 'https://curltalk.naturallycurly.com/categories/hall-of-shame-discussion',\n",
       " 'https://curltalk.naturallycurly.com/categories/hall-of-fame-discussion',\n",
       " 'https://curltalk.naturallycurly.com/categories/curly-hairstyles',\n",
       " 'https://curltalk.naturallycurly.com/categories/coloring-your-hair',\n",
       " 'https://curltalk.naturallycurly.com/categories/trying-a-shampoo-free-method',\n",
       " 'https://curltalk.naturallycurly.com/categories/straightening-relaxing',\n",
       " 'https://curltalk.naturallycurly.com/categories/keratin-services-and-treatment',\n",
       " 'https://curltalk.naturallycurly.com/categories/health-related-hair-issues',\n",
       " 'https://curltalk.naturallycurly.com/categories/recipes-for-hair-and-body',\n",
       " 'https://curltalk.naturallycurly.com/categories/protein-sensitive',\n",
       " 'https://curltalk.naturallycurly.com/categories/protein-craving',\n",
       " 'https://curltalk.naturallycurly.com/categories/parents-of-curlies',\n",
       " 'https://curltalk.naturallycurly.com/categories/curly-men',\n",
       " 'https://curltalk.naturallycurly.com/categories/curly-teens',\n",
       " 'https://curltalk.naturallycurly.com/categories/over-40',\n",
       " 'https://curltalk.naturallycurly.com/categories/going-gray',\n",
       " 'https://curltalk.naturallycurly.com/categories/growing-out',\n",
       " 'https://curltalk.naturallycurly.com/categories/all-natural-hair-care',\n",
       " 'https://curltalk.naturallycurly.com/categories/celebs-hair',\n",
       " 'https://curltalk.naturallycurly.com/categories/locs',\n",
       " 'https://curltalk.naturallycurly.com/categories/high-porosity',\n",
       " 'https://curltalk.naturallycurly.com/categories/normal-porosity',\n",
       " 'https://curltalk.naturallycurly.com/categories/low-porosity',\n",
       " 'https://curltalk.naturallycurly.com/categories/fine-width-',\n",
       " 'https://curltalk.naturallycurly.com/categories/medium-width-hair',\n",
       " 'https://curltalk.naturallycurly.com/categories/coarse',\n",
       " 'https://curltalk.naturallycurly.com/categories/swap-board',\n",
       " 'https://curltalk.naturallycurly.com/categories/swap-board-for-canadians',\n",
       " 'https://curltalk.naturallycurly.com/categories/swap-board-for-eurocurlies',\n",
       " 'https://curltalk.naturallycurly.com/categories/aussie-swap-board',\n",
       " 'https://curltalk.naturallycurly.com/categories/other-beauty-products-swap-board',\n",
       " 'https://curltalk.naturallycurly.com/categories/book-swap-board',\n",
       " 'https://curltalk.naturallycurly.com/categories/non-hair-discussion',\n",
       " 'https://curltalk.naturallycurly.com/categories/recipes-stuff-to-eat',\n",
       " 'https://curltalk.naturallycurly.com/categories/curly-fitness',\n",
       " 'https://curltalk.naturallycurly.com/categories/curl-gatherings',\n",
       " 'https://curltalk.naturallycurly.com/categories/makeup-skin-care',\n",
       " 'https://curltalk.naturallycurly.com/categories/the-curlybook-club',\n",
       " 'https://curltalk.naturallycurly.com/categories/politics',\n",
       " 'https://curltalk.naturallycurly.com/categories/pregnancy-parenting']"
      ]
     },
     "execution_count": 3,
     "metadata": {},
     "output_type": "execute_result"
    }
   ],
   "source": [
    "user_agent =  'Mozilla/5.0 (Macintosh; Intel Mac OS X 10_14_5) AppleWebKit/537.36 (KHTML, like Gecko) Chrome/75.0.3770.100 Safari/537.36'\n",
    "html_page = requests.get('https://curltalk.naturallycurly.com/', headers = {'User-Agent': user_agent} ) #Make a get request to retrieve the page\n",
    "soup = BeautifulSoup(html_page.content, 'html.parser')\n",
    "link_list_forum_top = []\n",
    "for link in soup.find_all('a'):\n",
    "    link_list_forum_top.append(link.get('href'))\n",
    "categories = [s for s in link_list_forum_top if ((\"categories\" in s) and ('https' in s))]\n",
    "categories[0:]"
   ]
  },
  {
   "cell_type": "markdown",
   "metadata": {},
   "source": [
    "#### Get the discussion topic urls for the first x pages of the category"
   ]
  },
  {
   "cell_type": "code",
   "execution_count": 110,
   "metadata": {},
   "outputs": [
    {
     "name": "stdout",
     "output_type": "stream",
     "text": [
      "https://curltalk.naturallycurly.com/categories/normal-porosity/p0\n",
      "https://curltalk.naturallycurly.com/categories/normal-porosity/p1\n",
      "https://curltalk.naturallycurly.com/categories/normal-porosity/p2\n",
      "Error improper response code. Code is 404\n",
      "https://curltalk.naturallycurly.com/categories/normal-porosity/p3\n",
      "Error improper response code. Code is 404\n",
      "https://curltalk.naturallycurly.com/categories/normal-porosity/p4\n",
      "Error improper response code. Code is 404\n",
      "https://curltalk.naturallycurly.com/categories/normal-porosity/p5\n",
      "Error improper response code. Code is 404\n",
      "https://curltalk.naturallycurly.com/categories/normal-porosity/p6\n",
      "Error improper response code. Code is 404\n",
      "https://curltalk.naturallycurly.com/categories/normal-porosity/p7\n",
      "Error improper response code. Code is 404\n",
      "https://curltalk.naturallycurly.com/categories/normal-porosity/p8\n",
      "Error improper response code. Code is 404\n",
      "https://curltalk.naturallycurly.com/categories/normal-porosity/p9\n",
      "Error improper response code. Code is 404\n",
      "https://curltalk.naturallycurly.com/categories/normal-porosity/p10\n",
      "Error improper response code. Code is 404\n",
      "https://curltalk.naturallycurly.com/categories/normal-porosity/p11\n",
      "Error improper response code. Code is 404\n",
      "https://curltalk.naturallycurly.com/categories/normal-porosity/p12\n",
      "Error improper response code. Code is 404\n",
      "https://curltalk.naturallycurly.com/categories/normal-porosity/p13\n",
      "Error improper response code. Code is 404\n",
      "https://curltalk.naturallycurly.com/categories/normal-porosity/p14\n",
      "Error improper response code. Code is 404\n",
      "https://curltalk.naturallycurly.com/categories/normal-porosity/p15\n",
      "Error improper response code. Code is 404\n",
      "https://curltalk.naturallycurly.com/categories/normal-porosity/p16\n",
      "Error improper response code. Code is 404\n",
      "https://curltalk.naturallycurly.com/categories/normal-porosity/p17\n",
      "Error improper response code. Code is 404\n",
      "https://curltalk.naturallycurly.com/categories/normal-porosity/p18\n",
      "Error improper response code. Code is 404\n",
      "https://curltalk.naturallycurly.com/categories/normal-porosity/p19\n",
      "Error improper response code. Code is 404\n",
      "https://curltalk.naturallycurly.com/categories/normal-porosity/p20\n",
      "Error improper response code. Code is 404\n",
      "https://curltalk.naturallycurly.com/categories/normal-porosity/p21\n",
      "Error improper response code. Code is 404\n",
      "https://curltalk.naturallycurly.com/categories/normal-porosity/p22\n",
      "Error improper response code. Code is 404\n",
      "https://curltalk.naturallycurly.com/categories/normal-porosity/p23\n",
      "Error improper response code. Code is 404\n",
      "https://curltalk.naturallycurly.com/categories/normal-porosity/p24\n",
      "Error improper response code. Code is 404\n",
      "https://curltalk.naturallycurly.com/categories/normal-porosity/p25\n",
      "Error improper response code. Code is 404\n",
      "https://curltalk.naturallycurly.com/categories/normal-porosity/p26\n",
      "Error improper response code. Code is 404\n",
      "https://curltalk.naturallycurly.com/categories/normal-porosity/p27\n",
      "Error improper response code. Code is 404\n",
      "https://curltalk.naturallycurly.com/categories/normal-porosity/p28\n",
      "Error improper response code. Code is 404\n",
      "https://curltalk.naturallycurly.com/categories/normal-porosity/p29\n",
      "Error improper response code. Code is 404\n",
      "https://curltalk.naturallycurly.com/categories/normal-porosity/p30\n",
      "Error improper response code. Code is 404\n",
      "https://curltalk.naturallycurly.com/categories/normal-porosity/p31\n",
      "Error improper response code. Code is 404\n",
      "https://curltalk.naturallycurly.com/categories/normal-porosity/p32\n",
      "Error improper response code. Code is 404\n",
      "https://curltalk.naturallycurly.com/categories/normal-porosity/p33\n",
      "Error improper response code. Code is 404\n",
      "https://curltalk.naturallycurly.com/categories/normal-porosity/p34\n",
      "Error improper response code. Code is 404\n",
      "https://curltalk.naturallycurly.com/categories/normal-porosity/p35\n",
      "Error improper response code. Code is 404\n",
      "https://curltalk.naturallycurly.com/categories/normal-porosity/p36\n",
      "Error improper response code. Code is 404\n",
      "https://curltalk.naturallycurly.com/categories/normal-porosity/p37\n",
      "Error improper response code. Code is 404\n",
      "https://curltalk.naturallycurly.com/categories/normal-porosity/p38\n",
      "Error improper response code. Code is 404\n",
      "https://curltalk.naturallycurly.com/categories/normal-porosity/p39\n",
      "Error improper response code. Code is 404\n",
      "https://curltalk.naturallycurly.com/categories/normal-porosity/p40\n",
      "Error improper response code. Code is 404\n",
      "https://curltalk.naturallycurly.com/categories/normal-porosity/p41\n",
      "Error improper response code. Code is 404\n",
      "https://curltalk.naturallycurly.com/categories/normal-porosity/p42\n",
      "Error improper response code. Code is 404\n",
      "https://curltalk.naturallycurly.com/categories/normal-porosity/p43\n",
      "Error improper response code. Code is 404\n",
      "https://curltalk.naturallycurly.com/categories/normal-porosity/p44\n",
      "Error improper response code. Code is 404\n",
      "https://curltalk.naturallycurly.com/categories/normal-porosity/p45\n",
      "Error improper response code. Code is 404\n",
      "https://curltalk.naturallycurly.com/categories/normal-porosity/p46\n",
      "Error improper response code. Code is 404\n",
      "https://curltalk.naturallycurly.com/categories/normal-porosity/p47\n",
      "Error improper response code. Code is 404\n",
      "https://curltalk.naturallycurly.com/categories/normal-porosity/p48\n",
      "Error improper response code. Code is 404\n",
      "https://curltalk.naturallycurly.com/categories/normal-porosity/p49\n",
      "Error improper response code. Code is 404\n",
      "42\n",
      "Error improper response code. Code is 404\n",
      "1\n",
      "Error improper response code. Code is 404\n",
      "2\n",
      "Error improper response code. Code is 404\n",
      "3\n",
      "Error improper response code. Code is 404\n",
      "4\n",
      "Error improper response code. Code is 404\n",
      "5\n",
      "Error improper response code. Code is 404\n",
      "6\n",
      "Error improper response code. Code is 404\n",
      "7\n",
      "Error improper response code. Code is 404\n",
      "8\n",
      "Error improper response code. Code is 404\n",
      "9\n",
      "Error improper response code. Code is 404\n",
      "10\n",
      "Error improper response code. Code is 404\n",
      "11\n",
      "Error improper response code. Code is 404\n",
      "12\n",
      "Error improper response code. Code is 404\n",
      "13\n",
      "Error improper response code. Code is 404\n",
      "14\n",
      "Error improper response code. Code is 404\n",
      "15\n",
      "Error improper response code. Code is 404\n",
      "16\n",
      "Error improper response code. Code is 404\n",
      "17\n",
      "Error improper response code. Code is 404\n",
      "18\n",
      "Error improper response code. Code is 404\n",
      "19\n",
      "Error improper response code. Code is 404\n",
      "20\n",
      "Error improper response code. Code is 404\n",
      "21\n",
      "Error improper response code. Code is 404\n",
      "22\n",
      "Error improper response code. Code is 404\n",
      "23\n",
      "Error improper response code. Code is 404\n",
      "24\n",
      "Error improper response code. Code is 404\n",
      "25\n",
      "Error improper response code. Code is 404\n",
      "26\n",
      "Error improper response code. Code is 404\n",
      "27\n",
      "Error improper response code. Code is 404\n",
      "28\n",
      "Error improper response code. Code is 404\n",
      "29\n",
      "Error improper response code. Code is 404\n",
      "30\n",
      "Error improper response code. Code is 404\n",
      "31\n",
      "Error improper response code. Code is 404\n",
      "32\n",
      "Error improper response code. Code is 404\n",
      "33\n",
      "Error improper response code. Code is 404\n",
      "34\n",
      "Error improper response code. Code is 404\n",
      "35\n",
      "Error improper response code. Code is 404\n",
      "36\n",
      "Error improper response code. Code is 404\n",
      "37\n",
      "Error improper response code. Code is 404\n",
      "38\n",
      "Error improper response code. Code is 404\n",
      "39\n",
      "Error improper response code. Code is 404\n",
      "40\n",
      "Error improper response code. Code is 404\n",
      "41\n",
      "Error improper response code. Code is 404\n",
      "42\n"
     ]
    }
   ],
   "source": [
    "# %%time\n",
    "\n",
    "link_listdiscussion = []\n",
    "for i in range(0, 50):\n",
    "    url = f'{categories[34]}/p{i}'\n",
    "    print(url)\n",
    "    user_agent =  'Mozilla/5.0 (Macintosh; Intel Mac OS X 10_14_5) AppleWebKit/537.36 (KHTML, like Gecko) Chrome/75.0.3770.100 Safari/537.36'\n",
    "    html_page = requests.get(url, headers = {'User-Agent': user_agent} ) #Make a get request to retrieve the page\n",
    "     \n",
    "    # Check status code for an appropriate response fromt the API\n",
    "    status = html_page.status_code\n",
    "    if status != 200:\n",
    "        print(f'Error improper response code. Code is {status}')\n",
    "        #break\n",
    "    soup = BeautifulSoup(html_page.content, 'html.parser') #Pass the page contents to beautiful soup for parsing\n",
    "    page1_of_discussion = []\n",
    "    #time.sleep(random.randint(20,45))\n",
    "    for link in soup.find_all('a'):\n",
    "        link_listdiscussion.append(link.get('href'))\n",
    "        topics = [s for s in link_listdiscussion if ((\"/discussion\" in s) and ('https' in s))]\n",
    "\n",
    "print(len(topics))     \n",
    "# Loop through all the topics found for each catagory        \n",
    "list_for_mongo = []\n",
    "count = 1\n",
    "for topic in topics:\n",
    "    url2 = topic\n",
    "    user_agent =  'Mozilla/5.0 (Macintosh; Intel Mac OS X 10_14_5) AppleWebKit/537.36 (KHTML, like Gecko) Chrome/75.0.3770.100 Safari/537.36'\n",
    "    html_page2 = requests.get(url2, headers = {'User-Agent': user_agent} )\n",
    "    \n",
    "    if status != 200:\n",
    "        print(f'Error improper response code. Code is {status}')\n",
    "        #break\n",
    "        \n",
    "    soup2 = BeautifulSoup(html_page2.content, 'html.parser')\n",
    "    signatures = soup2.find_all('div', class_=\"Signature UserSignature userContent\")\n",
    "    \n",
    "    for i in range(0,len(signatures)):\n",
    "        sig = {}\n",
    "        sig['signature'] = soup2.find_all('div', class_=\"Signature UserSignature userContent\")[i].get_text()\n",
    "        list_for_mongo.append(sig)\n",
    "#     time.sleep(random.randint(1,5))\n",
    "    print(count)\n",
    "    count += 1\n",
    "    "
   ]
  },
  {
   "cell_type": "code",
   "execution_count": 111,
   "metadata": {},
   "outputs": [
    {
     "data": {
      "text/plain": [
       "206"
      ]
     },
     "execution_count": 111,
     "metadata": {},
     "output_type": "execute_result"
    }
   ],
   "source": [
    "len(list_for_mongo)"
   ]
  },
  {
   "cell_type": "markdown",
   "metadata": {},
   "source": [
    "### Create a mongoDB and have data stored from scrape "
   ]
  },
  {
   "cell_type": "code",
   "execution_count": 104,
   "metadata": {},
   "outputs": [],
   "source": [
    "# DB creation \n",
    "myclient = pymongo.MongoClient(\"mongodb://127.0.0.1:27017/\")\n",
    "curlydb = myclient['Naturaly_Curly_db']\n",
    "curly_collection = curlydb['curly_profiles']"
   ]
  },
  {
   "cell_type": "code",
   "execution_count": 105,
   "metadata": {},
   "outputs": [],
   "source": [
    "entry2 = curly_collection.insert_many(list_for_mongo)"
   ]
  },
  {
   "cell_type": "code",
   "execution_count": 106,
   "metadata": {},
   "outputs": [
    {
     "name": "stdout",
     "output_type": "stream",
     "text": [
      "447041\n"
     ]
    }
   ],
   "source": [
    "query_1 = curly_collection.find({})\n",
    "test = []\n",
    "for x in query_1:\n",
    "    test.append(x['signature'])\n",
    "    #print(x)\n",
    "print(len(test))    "
   ]
  },
  {
   "cell_type": "code",
   "execution_count": 107,
   "metadata": {},
   "outputs": [],
   "source": [
    "test_set = set(test)"
   ]
  },
  {
   "cell_type": "code",
   "execution_count": 108,
   "metadata": {},
   "outputs": [
    {
     "data": {
      "text/plain": [
       "7554"
      ]
     },
     "execution_count": 108,
     "metadata": {},
     "output_type": "execute_result"
    }
   ],
   "source": [
    "# Number of unique entries so far\n",
    "len(test_set)\n",
    "#7554"
   ]
  },
  {
   "cell_type": "code",
   "execution_count": null,
   "metadata": {},
   "outputs": [],
   "source": []
  },
  {
   "cell_type": "code",
   "execution_count": null,
   "metadata": {},
   "outputs": [],
   "source": []
  }
 ],
 "metadata": {
  "kernelspec": {
   "display_name": "Python 3",
   "language": "python",
   "name": "python3"
  },
  "language_info": {
   "codemirror_mode": {
    "name": "ipython",
    "version": 3
   },
   "file_extension": ".py",
   "mimetype": "text/x-python",
   "name": "python",
   "nbconvert_exporter": "python",
   "pygments_lexer": "ipython3",
   "version": "3.7.3"
  }
 },
 "nbformat": 4,
 "nbformat_minor": 2
}
