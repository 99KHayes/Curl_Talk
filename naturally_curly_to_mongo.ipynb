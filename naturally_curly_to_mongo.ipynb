{
 "cells": [
  {
   "cell_type": "code",
   "execution_count": 3,
   "metadata": {},
   "outputs": [],
   "source": [
    "from bs4 import BeautifulSoup\n",
    "import requests\n",
    "import pymongo\n",
    "import time"
   ]
  },
  {
   "cell_type": "markdown",
   "metadata": {},
   "source": [
    "### Make a list of the urls of the categories in the forum"
   ]
  },
  {
   "cell_type": "code",
   "execution_count": 5,
   "metadata": {},
   "outputs": [
    {
     "data": {
      "text/plain": [
       "['https://curltalk.naturallycurly.com/categories/announcements',\n",
       " 'https://curltalk.naturallycurly.com/categories/newbies-info',\n",
       " 'https://curltalk.naturallycurly.com/categories/introductions',\n",
       " 'https://curltalk.naturallycurly.com/categories/curlmart-news']"
      ]
     },
     "execution_count": 5,
     "metadata": {},
     "output_type": "execute_result"
    }
   ],
   "source": [
    "user_agent =  'Mozilla/5.0 (Macintosh; Intel Mac OS X 10_14_5) AppleWebKit/537.36 (KHTML, like Gecko) Chrome/75.0.3770.100 Safari/537.36'\n",
    "html_page = requests.get('https://curltalk.naturallycurly.com/', headers = {'User-Agent': user_agent} ) #Make a get request to retrieve the page\n",
    "soup = BeautifulSoup(html_page.content, 'html.parser')\n",
    "link_list_forum_top = []\n",
    "for link in soup.find_all('a'):\n",
    "    link_list_forum_top.append(link.get('href'))\n",
    "categories = [s for s in link_list_forum_top if ((\"categories\" in s) and ('https' in s))]\n",
    "categories[0:4]"
   ]
  },
  {
   "cell_type": "markdown",
   "metadata": {},
   "source": [
    "### Get the discussion topic urls for the first 10 pages of the category"
   ]
  },
  {
   "cell_type": "code",
   "execution_count": null,
   "metadata": {},
   "outputs": [],
   "source": [
    "link_listdiscussion = []\n",
    "for i in range(1, 11):\n",
    "    url = f'{categories[5]}/p{i}'\n",
    "    print(url)\n",
    "    user_agent =  'Mozilla/5.0 (Macintosh; Intel Mac OS X 10_14_5) AppleWebKit/537.36 (KHTML, like Gecko) Chrome/75.0.3770.100 Safari/537.36'\n",
    "    html_page = requests.get(url, headers = {'User-Agent': user_agent} ) #Make a get request to retrieve the page\n",
    "     \n",
    "    # Check status code for an appropriate response fromt the API\n",
    "    status = html_page.status_code\n",
    "    if status != 200:\n",
    "        print(f'Error improper response code. Code is {status}')\n",
    "        break\n",
    "    soup4 = BeautifulSoup(html_page.content, 'html.parser') #Pass the page contents to beautiful soup for parsing\n",
    "    page1_of_discussion = []\n",
    "    time.sleep(10)\n",
    "    for link in soup4.find_all('a'):\n",
    "        link_listdiscussion.append(link.get('href'))\n",
    "        topics = [s for s in link_listdiscussion if ((\"/discussion\" in s) and ('https' in s))]\n",
    "    print(topics)"
   ]
  },
  {
   "cell_type": "code",
   "execution_count": null,
   "metadata": {},
   "outputs": [],
   "source": []
  },
  {
   "cell_type": "code",
   "execution_count": null,
   "metadata": {},
   "outputs": [],
   "source": []
  }
 ],
 "metadata": {
  "kernelspec": {
   "display_name": "Python 3",
   "language": "python",
   "name": "python3"
  },
  "language_info": {
   "codemirror_mode": {
    "name": "ipython",
    "version": 3
   },
   "file_extension": ".py",
   "mimetype": "text/x-python",
   "name": "python",
   "nbconvert_exporter": "python",
   "pygments_lexer": "ipython3",
   "version": "3.7.3"
  }
 },
 "nbformat": 4,
 "nbformat_minor": 2
}
