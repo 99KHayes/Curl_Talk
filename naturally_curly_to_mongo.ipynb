{
 "cells": [
  {
   "cell_type": "code",
   "execution_count": 2,
   "metadata": {},
   "outputs": [],
   "source": [
    "from bs4 import BeautifulSoup\n",
    "import requests\n",
    "import pandas as pd\n",
    "import pymongo\n",
    "import time\n",
    "import random\n",
    "import pdb\n"
   ]
  },
  {
   "cell_type": "markdown",
   "metadata": {},
   "source": [
    "### Make a list of the urls of the categories in the forum"
   ]
  },
  {
   "cell_type": "code",
   "execution_count": 3,
   "metadata": {},
   "outputs": [
    {
     "data": {
      "text/plain": [
       "['https://curltalk.naturallycurly.com/categories/announcements',\n",
       " 'https://curltalk.naturallycurly.com/categories/newbies-info',\n",
       " 'https://curltalk.naturallycurly.com/categories/introductions',\n",
       " 'https://curltalk.naturallycurly.com/categories/curlmart-news',\n",
       " 'https://curltalk.naturallycurly.com/categories/feedback',\n",
       " 'https://curltalk.naturallycurly.com/categories/c2',\n",
       " 'https://curltalk.naturallycurly.com/categories/c3',\n",
       " 'https://curltalk.naturallycurly.com/categories/c4',\n",
       " 'https://curltalk.naturallycurly.com/categories/general-discussion-about-curly-hair',\n",
       " 'https://curltalk.naturallycurly.com/categories/salon-stylist-chatter',\n",
       " 'https://curltalk.naturallycurly.com/categories/transitioning',\n",
       " 'https://curltalk.naturallycurly.com/categories/thin-thinning-hair',\n",
       " 'https://curltalk.naturallycurly.com/categories/readers-product-reviews',\n",
       " 'https://curltalk.naturallycurly.com/categories/hall-of-shame-discussion',\n",
       " 'https://curltalk.naturallycurly.com/categories/hall-of-fame-discussion',\n",
       " 'https://curltalk.naturallycurly.com/categories/curly-hairstyles',\n",
       " 'https://curltalk.naturallycurly.com/categories/coloring-your-hair',\n",
       " 'https://curltalk.naturallycurly.com/categories/trying-a-shampoo-free-method',\n",
       " 'https://curltalk.naturallycurly.com/categories/straightening-relaxing',\n",
       " 'https://curltalk.naturallycurly.com/categories/keratin-services-and-treatment',\n",
       " 'https://curltalk.naturallycurly.com/categories/health-related-hair-issues',\n",
       " 'https://curltalk.naturallycurly.com/categories/recipes-for-hair-and-body',\n",
       " 'https://curltalk.naturallycurly.com/categories/protein-sensitive',\n",
       " 'https://curltalk.naturallycurly.com/categories/protein-craving',\n",
       " 'https://curltalk.naturallycurly.com/categories/parents-of-curlies',\n",
       " 'https://curltalk.naturallycurly.com/categories/curly-men',\n",
       " 'https://curltalk.naturallycurly.com/categories/curly-teens',\n",
       " 'https://curltalk.naturallycurly.com/categories/over-40',\n",
       " 'https://curltalk.naturallycurly.com/categories/going-gray',\n",
       " 'https://curltalk.naturallycurly.com/categories/growing-out',\n",
       " 'https://curltalk.naturallycurly.com/categories/all-natural-hair-care',\n",
       " 'https://curltalk.naturallycurly.com/categories/celebs-hair',\n",
       " 'https://curltalk.naturallycurly.com/categories/locs',\n",
       " 'https://curltalk.naturallycurly.com/categories/high-porosity',\n",
       " 'https://curltalk.naturallycurly.com/categories/normal-porosity',\n",
       " 'https://curltalk.naturallycurly.com/categories/low-porosity',\n",
       " 'https://curltalk.naturallycurly.com/categories/fine-width-',\n",
       " 'https://curltalk.naturallycurly.com/categories/medium-width-hair',\n",
       " 'https://curltalk.naturallycurly.com/categories/coarse',\n",
       " 'https://curltalk.naturallycurly.com/categories/swap-board',\n",
       " 'https://curltalk.naturallycurly.com/categories/swap-board-for-canadians',\n",
       " 'https://curltalk.naturallycurly.com/categories/swap-board-for-eurocurlies',\n",
       " 'https://curltalk.naturallycurly.com/categories/aussie-swap-board',\n",
       " 'https://curltalk.naturallycurly.com/categories/other-beauty-products-swap-board',\n",
       " 'https://curltalk.naturallycurly.com/categories/book-swap-board',\n",
       " 'https://curltalk.naturallycurly.com/categories/non-hair-discussion',\n",
       " 'https://curltalk.naturallycurly.com/categories/recipes-stuff-to-eat',\n",
       " 'https://curltalk.naturallycurly.com/categories/curly-fitness',\n",
       " 'https://curltalk.naturallycurly.com/categories/curl-gatherings',\n",
       " 'https://curltalk.naturallycurly.com/categories/makeup-skin-care',\n",
       " 'https://curltalk.naturallycurly.com/categories/the-curlybook-club',\n",
       " 'https://curltalk.naturallycurly.com/categories/politics',\n",
       " 'https://curltalk.naturallycurly.com/categories/pregnancy-parenting']"
      ]
     },
     "execution_count": 3,
     "metadata": {},
     "output_type": "execute_result"
    }
   ],
   "source": [
    "user_agent =  'Mozilla/5.0 (Macintosh; Intel Mac OS X 10_14_5) AppleWebKit/537.36 (KHTML, like Gecko) Chrome/75.0.3770.100 Safari/537.36'\n",
    "html_page = requests.get('https://curltalk.naturallycurly.com/', headers = {'User-Agent': user_agent} ) #Make a get request to retrieve the page\n",
    "soup = BeautifulSoup(html_page.content, 'html.parser')\n",
    "link_list_forum_top = []\n",
    "for link in soup.find_all('a'):\n",
    "    link_list_forum_top.append(link.get('href'))\n",
    "categories = [s for s in link_list_forum_top if ((\"categories\" in s) and ('https' in s))]\n",
    "categories[0:]"
   ]
  },
  {
   "cell_type": "markdown",
   "metadata": {},
   "source": [
    "#### Get the discussion topic urls for the first x pages of the category"
   ]
  },
  {
   "cell_type": "code",
   "execution_count": 131,
   "metadata": {},
   "outputs": [
    {
     "name": "stdout",
     "output_type": "stream",
     "text": [
      "https://curltalk.naturallycurly.com/categories/medium-width-hair/p0\n",
      "https://curltalk.naturallycurly.com/categories/medium-width-hair/p1\n",
      "https://curltalk.naturallycurly.com/categories/medium-width-hair/p2\n",
      "Error improper response code. Code is 404\n",
      "https://curltalk.naturallycurly.com/categories/medium-width-hair/p3\n",
      "Error improper response code. Code is 404\n",
      "https://curltalk.naturallycurly.com/categories/medium-width-hair/p4\n",
      "Error improper response code. Code is 404\n",
      "https://curltalk.naturallycurly.com/categories/medium-width-hair/p5\n",
      "Error improper response code. Code is 404\n",
      "https://curltalk.naturallycurly.com/categories/medium-width-hair/p6\n",
      "Error improper response code. Code is 404\n",
      "https://curltalk.naturallycurly.com/categories/medium-width-hair/p7\n",
      "Error improper response code. Code is 404\n",
      "https://curltalk.naturallycurly.com/categories/medium-width-hair/p8\n",
      "Error improper response code. Code is 404\n",
      "https://curltalk.naturallycurly.com/categories/medium-width-hair/p9\n",
      "Error improper response code. Code is 404\n",
      "https://curltalk.naturallycurly.com/categories/medium-width-hair/p10\n",
      "Error improper response code. Code is 404\n",
      "https://curltalk.naturallycurly.com/categories/medium-width-hair/p11\n",
      "Error improper response code. Code is 404\n",
      "https://curltalk.naturallycurly.com/categories/medium-width-hair/p12\n",
      "Error improper response code. Code is 404\n",
      "https://curltalk.naturallycurly.com/categories/medium-width-hair/p13\n",
      "Error improper response code. Code is 404\n",
      "https://curltalk.naturallycurly.com/categories/medium-width-hair/p14\n",
      "Error improper response code. Code is 404\n",
      "https://curltalk.naturallycurly.com/categories/medium-width-hair/p15\n",
      "Error improper response code. Code is 404\n",
      "https://curltalk.naturallycurly.com/categories/medium-width-hair/p16\n",
      "Error improper response code. Code is 404\n",
      "https://curltalk.naturallycurly.com/categories/medium-width-hair/p17\n",
      "Error improper response code. Code is 404\n",
      "https://curltalk.naturallycurly.com/categories/medium-width-hair/p18\n",
      "Error improper response code. Code is 404\n",
      "https://curltalk.naturallycurly.com/categories/medium-width-hair/p19\n",
      "Error improper response code. Code is 404\n",
      "https://curltalk.naturallycurly.com/categories/medium-width-hair/p20\n",
      "Error improper response code. Code is 404\n",
      "https://curltalk.naturallycurly.com/categories/medium-width-hair/p21\n",
      "Error improper response code. Code is 404\n",
      "https://curltalk.naturallycurly.com/categories/medium-width-hair/p22\n",
      "Error improper response code. Code is 404\n",
      "https://curltalk.naturallycurly.com/categories/medium-width-hair/p23\n",
      "Error improper response code. Code is 404\n",
      "https://curltalk.naturallycurly.com/categories/medium-width-hair/p24\n",
      "Error improper response code. Code is 404\n",
      "https://curltalk.naturallycurly.com/categories/medium-width-hair/p25\n",
      "Error improper response code. Code is 404\n",
      "https://curltalk.naturallycurly.com/categories/medium-width-hair/p26\n",
      "Error improper response code. Code is 404\n",
      "https://curltalk.naturallycurly.com/categories/medium-width-hair/p27\n",
      "Error improper response code. Code is 404\n",
      "https://curltalk.naturallycurly.com/categories/medium-width-hair/p28\n",
      "Error improper response code. Code is 404\n",
      "https://curltalk.naturallycurly.com/categories/medium-width-hair/p29\n",
      "Error improper response code. Code is 404\n",
      "https://curltalk.naturallycurly.com/categories/medium-width-hair/p30\n",
      "Error improper response code. Code is 404\n",
      "https://curltalk.naturallycurly.com/categories/medium-width-hair/p31\n",
      "Error improper response code. Code is 404\n",
      "https://curltalk.naturallycurly.com/categories/medium-width-hair/p32\n",
      "Error improper response code. Code is 404\n",
      "https://curltalk.naturallycurly.com/categories/medium-width-hair/p33\n",
      "Error improper response code. Code is 404\n",
      "https://curltalk.naturallycurly.com/categories/medium-width-hair/p34\n",
      "Error improper response code. Code is 404\n",
      "https://curltalk.naturallycurly.com/categories/medium-width-hair/p35\n",
      "Error improper response code. Code is 404\n",
      "https://curltalk.naturallycurly.com/categories/medium-width-hair/p36\n",
      "Error improper response code. Code is 404\n",
      "https://curltalk.naturallycurly.com/categories/medium-width-hair/p37\n",
      "Error improper response code. Code is 404\n",
      "https://curltalk.naturallycurly.com/categories/medium-width-hair/p38\n",
      "Error improper response code. Code is 404\n",
      "https://curltalk.naturallycurly.com/categories/medium-width-hair/p39\n",
      "Error improper response code. Code is 404\n",
      "https://curltalk.naturallycurly.com/categories/medium-width-hair/p40\n",
      "Error improper response code. Code is 404\n",
      "https://curltalk.naturallycurly.com/categories/medium-width-hair/p41\n",
      "Error improper response code. Code is 404\n",
      "https://curltalk.naturallycurly.com/categories/medium-width-hair/p42\n",
      "Error improper response code. Code is 404\n",
      "https://curltalk.naturallycurly.com/categories/medium-width-hair/p43\n",
      "Error improper response code. Code is 404\n",
      "https://curltalk.naturallycurly.com/categories/medium-width-hair/p44\n",
      "Error improper response code. Code is 404\n",
      "https://curltalk.naturallycurly.com/categories/medium-width-hair/p45\n",
      "Error improper response code. Code is 404\n",
      "https://curltalk.naturallycurly.com/categories/medium-width-hair/p46\n",
      "Error improper response code. Code is 404\n",
      "https://curltalk.naturallycurly.com/categories/medium-width-hair/p47\n",
      "Error improper response code. Code is 404\n",
      "https://curltalk.naturallycurly.com/categories/medium-width-hair/p48\n",
      "Error improper response code. Code is 404\n",
      "https://curltalk.naturallycurly.com/categories/medium-width-hair/p49\n",
      "Error improper response code. Code is 404\n",
      "0\n"
     ]
    }
   ],
   "source": [
    "# %%time\n",
    "\n",
    "link_listdiscussion = []\n",
    "for i in range(0, 50):\n",
    "    url = f'{categories[37]}/p{i}'\n",
    "    print(url)\n",
    "    user_agent =  'Mozilla/5.0 (Macintosh; Intel Mac OS X 10_14_5) AppleWebKit/537.36 (KHTML, like Gecko) Chrome/75.0.3770.100 Safari/537.36'\n",
    "    html_page = requests.get(url, headers = {'User-Agent': user_agent} ) #Make a get request to retrieve the page\n",
    "     \n",
    "    # Check status code for an appropriate response fromt the API\n",
    "    status = html_page.status_code\n",
    "    if status != 200:\n",
    "        print(f'Error improper response code. Code is {status}')\n",
    "        #break\n",
    "    soup = BeautifulSoup(html_page.content, 'html.parser') #Pass the page contents to beautiful soup for parsing\n",
    "    page1_of_discussion = []\n",
    "    #time.sleep(random.randint(20,45))\n",
    "    for link in soup.find_all('a'):\n",
    "        link_listdiscussion.append(link.get('href'))\n",
    "        topics = [s for s in link_listdiscussion if ((\"/discussion\" in s) and ('https' in s))]\n",
    "\n",
    "print(len(topics))     \n",
    "# Loop through all the topics found for each catagory        \n",
    "list_for_mongo = []\n",
    "count = 1\n",
    "for topic in topics:\n",
    "    url2 = topic\n",
    "    user_agent =  'Mozilla/5.0 (Macintosh; Intel Mac OS X 10_14_5) AppleWebKit/537.36 (KHTML, like Gecko) Chrome/75.0.3770.100 Safari/537.36'\n",
    "    html_page2 = requests.get(url2, headers = {'User-Agent': user_agent} )\n",
    "    \n",
    "    if status != 200:\n",
    "        print(f'Error improper response code. Code is {status}')\n",
    "        #break\n",
    "        \n",
    "    soup2 = BeautifulSoup(html_page2.content, 'html.parser')\n",
    "    signatures = soup2.find_all('div', class_=\"Signature UserSignature userContent\")\n",
    "    \n",
    "    for i in range(0,len(signatures)):\n",
    "        sig = {}\n",
    "        sig['signature'] = soup2.find_all('div', class_=\"Signature UserSignature userContent\")[i].get_text()\n",
    "        list_for_mongo.append(sig)\n",
    "#     time.sleep(random.randint(1,5))\n",
    "    print(count)\n",
    "    count += 1\n",
    "    "
   ]
  },
  {
   "cell_type": "code",
   "execution_count": 125,
   "metadata": {},
   "outputs": [
    {
     "data": {
      "text/plain": [
       "282"
      ]
     },
     "execution_count": 125,
     "metadata": {},
     "output_type": "execute_result"
    }
   ],
   "source": [
    "len(list_for_mongo)"
   ]
  },
  {
   "cell_type": "markdown",
   "metadata": {},
   "source": [
    "### Create a mongoDB and have data stored from scrape "
   ]
  },
  {
   "cell_type": "code",
   "execution_count": 126,
   "metadata": {},
   "outputs": [],
   "source": [
    "# DB creation \n",
    "myclient = pymongo.MongoClient(\"mongodb://127.0.0.1:27017/\")\n",
    "curlydb = myclient['Naturaly_Curly_db']\n",
    "curly_collection = curlydb['curly_profiles']"
   ]
  },
  {
   "cell_type": "code",
   "execution_count": 127,
   "metadata": {},
   "outputs": [],
   "source": [
    "entry2 = curly_collection.insert_many(list_for_mongo)"
   ]
  },
  {
   "cell_type": "code",
   "execution_count": 128,
   "metadata": {},
   "outputs": [
    {
     "name": "stdout",
     "output_type": "stream",
     "text": [
      "449331\n"
     ]
    }
   ],
   "source": [
    "query_1 = curly_collection.find({})\n",
    "test = []\n",
    "for x in query_1:\n",
    "    test.append(x['signature'])\n",
    "    #print(x)\n",
    "print(len(test))    "
   ]
  },
  {
   "cell_type": "code",
   "execution_count": 129,
   "metadata": {},
   "outputs": [],
   "source": [
    "test_set = set(test)"
   ]
  },
  {
   "cell_type": "code",
   "execution_count": 130,
   "metadata": {},
   "outputs": [
    {
     "data": {
      "text/plain": [
       "7560"
      ]
     },
     "execution_count": 130,
     "metadata": {},
     "output_type": "execute_result"
    }
   ],
   "source": [
    "# Number of unique entries so far\n",
    "len(test_set)\n",
    "#7560"
   ]
  },
  {
   "cell_type": "code",
   "execution_count": null,
   "metadata": {},
   "outputs": [],
   "source": []
  },
  {
   "cell_type": "code",
   "execution_count": null,
   "metadata": {},
   "outputs": [],
   "source": []
  }
 ],
 "metadata": {
  "kernelspec": {
   "display_name": "Python 3",
   "language": "python",
   "name": "python3"
  },
  "language_info": {
   "codemirror_mode": {
    "name": "ipython",
    "version": 3
   },
   "file_extension": ".py",
   "mimetype": "text/x-python",
   "name": "python",
   "nbconvert_exporter": "python",
   "pygments_lexer": "ipython3",
   "version": "3.7.3"
  }
 },
 "nbformat": 4,
 "nbformat_minor": 2
}
