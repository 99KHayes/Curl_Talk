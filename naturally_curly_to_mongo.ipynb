{
 "cells": [
  {
   "cell_type": "code",
   "execution_count": 1,
   "metadata": {},
   "outputs": [],
   "source": [
    "from bs4 import BeautifulSoup\n",
    "import requests\n",
    "import pymongo\n",
    "import time\n",
    "import random\n",
    "import pdb"
   ]
  },
  {
   "cell_type": "markdown",
   "metadata": {},
   "source": [
    "### Make a list of the urls of the categories in the forum"
   ]
  },
  {
   "cell_type": "code",
   "execution_count": 2,
   "metadata": {},
   "outputs": [
    {
     "data": {
      "text/plain": [
       "['https://curltalk.naturallycurly.com/categories/announcements',\n",
       " 'https://curltalk.naturallycurly.com/categories/newbies-info',\n",
       " 'https://curltalk.naturallycurly.com/categories/introductions',\n",
       " 'https://curltalk.naturallycurly.com/categories/curlmart-news']"
      ]
     },
     "execution_count": 2,
     "metadata": {},
     "output_type": "execute_result"
    }
   ],
   "source": [
    "user_agent =  'Mozilla/5.0 (Macintosh; Intel Mac OS X 10_14_5) AppleWebKit/537.36 (KHTML, like Gecko) Chrome/75.0.3770.100 Safari/537.36'\n",
    "html_page = requests.get('https://curltalk.naturallycurly.com/', headers = {'User-Agent': user_agent} ) #Make a get request to retrieve the page\n",
    "soup = BeautifulSoup(html_page.content, 'html.parser')\n",
    "link_list_forum_top = []\n",
    "for link in soup.find_all('a'):\n",
    "    link_list_forum_top.append(link.get('href'))\n",
    "categories = [s for s in link_list_forum_top if ((\"categories\" in s) and ('https' in s))]\n",
    "categories[0:4]"
   ]
  },
  {
   "cell_type": "markdown",
   "metadata": {},
   "source": [
    "#### Get the discussion topic urls for the first x pages of the category"
   ]
  },
  {
   "cell_type": "code",
   "execution_count": null,
   "metadata": {},
   "outputs": [
    {
     "name": "stdout",
     "output_type": "stream",
     "text": [
      "https://curltalk.naturallycurly.com/categories/c2/p11\n",
      "https://curltalk.naturallycurly.com/categories/c2/p12\n",
      "https://curltalk.naturallycurly.com/categories/c2/p13\n",
      "https://curltalk.naturallycurly.com/categories/c2/p14\n",
      "https://curltalk.naturallycurly.com/categories/c2/p15\n",
      "https://curltalk.naturallycurly.com/categories/c2/p16\n",
      "https://curltalk.naturallycurly.com/categories/c2/p17\n",
      "https://curltalk.naturallycurly.com/categories/c2/p18\n",
      "https://curltalk.naturallycurly.com/categories/c2/p19\n",
      "https://curltalk.naturallycurly.com/categories/c2/p20\n",
      "300\n",
      "1\n",
      "2\n",
      "3\n",
      "4\n",
      "5\n",
      "6\n",
      "7\n",
      "8\n",
      "9\n",
      "10\n",
      "11\n",
      "12\n",
      "13\n",
      "14\n",
      "15\n",
      "16\n",
      "17\n",
      "18\n",
      "19\n",
      "20\n",
      "21\n",
      "22\n"
     ]
    }
   ],
   "source": [
    "# %%time\n",
    "\n",
    "link_listdiscussion = []\n",
    "for i in range(11, 21):\n",
    "    url = f'{categories[5]}/p{i}'\n",
    "    print(url)\n",
    "    user_agent =  'Mozilla/5.0 (Macintosh; Intel Mac OS X 10_14_5) AppleWebKit/537.36 (KHTML, like Gecko) Chrome/75.0.3770.100 Safari/537.36'\n",
    "    html_page = requests.get(url, headers = {'User-Agent': user_agent} ) #Make a get request to retrieve the page\n",
    "     \n",
    "    # Check status code for an appropriate response fromt the API\n",
    "    status = html_page.status_code\n",
    "    if status != 200:\n",
    "        print(f'Error improper response code. Code is {status}')\n",
    "        break\n",
    "    soup = BeautifulSoup(html_page.content, 'html.parser') #Pass the page contents to beautiful soup for parsing\n",
    "    page1_of_discussion = []\n",
    "    time.sleep(random.randint(15,30))\n",
    "    for link in soup.find_all('a'):\n",
    "        link_listdiscussion.append(link.get('href'))\n",
    "        topics = [s for s in link_listdiscussion if ((\"/discussion\" in s) and ('https' in s))]\n",
    "\n",
    "print(len(topics))     \n",
    "# Loop through all the topics found for each catagory        \n",
    "list_for_mongo = []\n",
    "count = 1\n",
    "for topic in topics:\n",
    "    url2 = topic\n",
    "    user_agent =  'Mozilla/5.0 (Macintosh; Intel Mac OS X 10_14_5) AppleWebKit/537.36 (KHTML, like Gecko) Chrome/75.0.3770.100 Safari/537.36'\n",
    "    html_page2 = requests.get(url2, headers = {'User-Agent': user_agent} )\n",
    "    \n",
    "    if status != 200:\n",
    "        print(f'Error improper response code. Code is {status}')\n",
    "        break\n",
    "        \n",
    "    soup2 = BeautifulSoup(html_page2.content, 'html.parser')\n",
    "    signatures = soup2.find_all('div', class_=\"Signature UserSignature userContent\")\n",
    "    \n",
    "    for i in range(0,len(signatures)):\n",
    "        sig = {}\n",
    "        sig['signature'] = soup2.find_all('div', class_=\"Signature UserSignature userContent\")[i].get_text()\n",
    "        list_for_mongo.append(sig)\n",
    "    time.sleep(random.randint(20,60))\n",
    "    print(count)\n",
    "    count += 1\n",
    "    "
   ]
  },
  {
   "cell_type": "code",
   "execution_count": null,
   "metadata": {},
   "outputs": [],
   "source": [
    "list_for_mongo"
   ]
  },
  {
   "cell_type": "markdown",
   "metadata": {},
   "source": [
    "### Create a mongoDB and have data stored from scrape "
   ]
  },
  {
   "cell_type": "code",
   "execution_count": null,
   "metadata": {},
   "outputs": [],
   "source": [
    "# DB creation \n",
    "myclient = pymongo.MongoClient(\"mongodb://127.0.0.1:27017/\")\n",
    "curlydb = myclient['Naturaly_Curly_db']\n",
    "curly_collection = curlydb['curly_profiles']"
   ]
  },
  {
   "cell_type": "code",
   "execution_count": null,
   "metadata": {},
   "outputs": [],
   "source": [
    "entry2 = curly_collection.insert_many(list_for_mongo)"
   ]
  },
  {
   "cell_type": "code",
   "execution_count": null,
   "metadata": {},
   "outputs": [],
   "source": [
    "query_1 = curly_collection.find({})\n",
    "for x in query_1:\n",
    "    print(x)"
   ]
  },
  {
   "cell_type": "code",
   "execution_count": null,
   "metadata": {},
   "outputs": [],
   "source": []
  }
 ],
 "metadata": {
  "kernelspec": {
   "display_name": "Python 3",
   "language": "python",
   "name": "python3"
  }
 },
 "nbformat": 4,
 "nbformat_minor": 2
}
