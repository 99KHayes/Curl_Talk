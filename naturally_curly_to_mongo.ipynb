{
 "cells": [
  {
   "cell_type": "code",
   "execution_count": 1,
   "metadata": {},
   "outputs": [],
   "source": [
    "from bs4 import BeautifulSoup\n",
    "import requests\n",
    "import pymongo\n",
    "import time\n",
    "import random\n",
    "import pdb"
   ]
  },
  {
   "cell_type": "markdown",
   "metadata": {},
   "source": [
    "### Make a list of the urls of the categories in the forum"
   ]
  },
  {
   "cell_type": "code",
   "execution_count": 2,
   "metadata": {},
   "outputs": [
    {
     "data": {
      "text/plain": [
       "['https://curltalk.naturallycurly.com/categories/announcements',\n",
       " 'https://curltalk.naturallycurly.com/categories/newbies-info',\n",
       " 'https://curltalk.naturallycurly.com/categories/introductions',\n",
       " 'https://curltalk.naturallycurly.com/categories/curlmart-news']"
      ]
     },
     "execution_count": 2,
     "metadata": {},
     "output_type": "execute_result"
    }
   ],
   "source": [
    "user_agent =  'Mozilla/5.0 (Macintosh; Intel Mac OS X 10_14_5) AppleWebKit/537.36 (KHTML, like Gecko) Chrome/75.0.3770.100 Safari/537.36'\n",
    "html_page = requests.get('https://curltalk.naturallycurly.com/', headers = {'User-Agent': user_agent} ) #Make a get request to retrieve the page\n",
    "soup = BeautifulSoup(html_page.content, 'html.parser')\n",
    "link_list_forum_top = []\n",
    "for link in soup.find_all('a'):\n",
    "    link_list_forum_top.append(link.get('href'))\n",
    "categories = [s for s in link_list_forum_top if ((\"categories\" in s) and ('https' in s))]\n",
    "categories[0:4]"
   ]
  },
  {
   "cell_type": "markdown",
   "metadata": {},
   "source": [
    "#### Get the discussion topic urls for the first x pages of the category"
   ]
  },
  {
   "cell_type": "code",
   "execution_count": 3,
   "metadata": {},
   "outputs": [
    {
     "name": "stdout",
     "output_type": "stream",
     "text": [
      "https://curltalk.naturallycurly.com/categories/c2/p1\n",
      "https://curltalk.naturallycurly.com/categories/c2/p2\n",
      "https://curltalk.naturallycurly.com/categories/c2/p3\n",
      "https://curltalk.naturallycurly.com/categories/c2/p4\n",
      "https://curltalk.naturallycurly.com/categories/c2/p5\n",
      "https://curltalk.naturallycurly.com/categories/c2/p6\n",
      "https://curltalk.naturallycurly.com/categories/c2/p7\n",
      "https://curltalk.naturallycurly.com/categories/c2/p8\n",
      "https://curltalk.naturallycurly.com/categories/c2/p9\n",
      "https://curltalk.naturallycurly.com/categories/c2/p10\n",
      "300\n",
      "1\n",
      "2\n",
      "3\n",
      "4\n",
      "5\n",
      "6\n",
      "7\n",
      "8\n",
      "9\n",
      "10\n",
      "11\n",
      "12\n",
      "13\n"
     ]
    },
    {
     "ename": "ConnectionError",
     "evalue": "HTTPSConnectionPool(host='curltalk.naturallycurly.com', port=443): Max retries exceeded with url: /discussion/188004/hair-looks-greasy-how-do-i-fix-this (Caused by NewConnectionError('<urllib3.connection.VerifiedHTTPSConnection object at 0x1105736a0>: Failed to establish a new connection: [Errno 50] Network is down'))",
     "output_type": "error",
     "traceback": [
      "\u001b[0;31m---------------------------------------------------------------------------\u001b[0m",
      "\u001b[0;31mOSError\u001b[0m                                   Traceback (most recent call last)",
      "\u001b[0;32m~/anaconda3/lib/python3.7/site-packages/urllib3/connection.py\u001b[0m in \u001b[0;36m_new_conn\u001b[0;34m(self)\u001b[0m\n\u001b[1;32m    158\u001b[0m             conn = connection.create_connection(\n\u001b[0;32m--> 159\u001b[0;31m                 (self._dns_host, self.port), self.timeout, **extra_kw)\n\u001b[0m\u001b[1;32m    160\u001b[0m \u001b[0;34m\u001b[0m\u001b[0m\n",
      "\u001b[0;32m~/anaconda3/lib/python3.7/site-packages/urllib3/util/connection.py\u001b[0m in \u001b[0;36mcreate_connection\u001b[0;34m(address, timeout, source_address, socket_options)\u001b[0m\n\u001b[1;32m     79\u001b[0m     \u001b[0;32mif\u001b[0m \u001b[0merr\u001b[0m \u001b[0;32mis\u001b[0m \u001b[0;32mnot\u001b[0m \u001b[0;32mNone\u001b[0m\u001b[0;34m:\u001b[0m\u001b[0;34m\u001b[0m\u001b[0;34m\u001b[0m\u001b[0m\n\u001b[0;32m---> 80\u001b[0;31m         \u001b[0;32mraise\u001b[0m \u001b[0merr\u001b[0m\u001b[0;34m\u001b[0m\u001b[0;34m\u001b[0m\u001b[0m\n\u001b[0m\u001b[1;32m     81\u001b[0m \u001b[0;34m\u001b[0m\u001b[0m\n",
      "\u001b[0;32m~/anaconda3/lib/python3.7/site-packages/urllib3/util/connection.py\u001b[0m in \u001b[0;36mcreate_connection\u001b[0;34m(address, timeout, source_address, socket_options)\u001b[0m\n\u001b[1;32m     69\u001b[0m                 \u001b[0msock\u001b[0m\u001b[0;34m.\u001b[0m\u001b[0mbind\u001b[0m\u001b[0;34m(\u001b[0m\u001b[0msource_address\u001b[0m\u001b[0;34m)\u001b[0m\u001b[0;34m\u001b[0m\u001b[0;34m\u001b[0m\u001b[0m\n\u001b[0;32m---> 70\u001b[0;31m             \u001b[0msock\u001b[0m\u001b[0;34m.\u001b[0m\u001b[0mconnect\u001b[0m\u001b[0;34m(\u001b[0m\u001b[0msa\u001b[0m\u001b[0;34m)\u001b[0m\u001b[0;34m\u001b[0m\u001b[0;34m\u001b[0m\u001b[0m\n\u001b[0m\u001b[1;32m     71\u001b[0m             \u001b[0;32mreturn\u001b[0m \u001b[0msock\u001b[0m\u001b[0;34m\u001b[0m\u001b[0;34m\u001b[0m\u001b[0m\n",
      "\u001b[0;31mOSError\u001b[0m: [Errno 50] Network is down",
      "\nDuring handling of the above exception, another exception occurred:\n",
      "\u001b[0;31mNewConnectionError\u001b[0m                        Traceback (most recent call last)",
      "\u001b[0;32m~/anaconda3/lib/python3.7/site-packages/urllib3/connectionpool.py\u001b[0m in \u001b[0;36murlopen\u001b[0;34m(self, method, url, body, headers, retries, redirect, assert_same_host, timeout, pool_timeout, release_conn, chunked, body_pos, **response_kw)\u001b[0m\n\u001b[1;32m    599\u001b[0m                                                   \u001b[0mbody\u001b[0m\u001b[0;34m=\u001b[0m\u001b[0mbody\u001b[0m\u001b[0;34m,\u001b[0m \u001b[0mheaders\u001b[0m\u001b[0;34m=\u001b[0m\u001b[0mheaders\u001b[0m\u001b[0;34m,\u001b[0m\u001b[0;34m\u001b[0m\u001b[0;34m\u001b[0m\u001b[0m\n\u001b[0;32m--> 600\u001b[0;31m                                                   chunked=chunked)\n\u001b[0m\u001b[1;32m    601\u001b[0m \u001b[0;34m\u001b[0m\u001b[0m\n",
      "\u001b[0;32m~/anaconda3/lib/python3.7/site-packages/urllib3/connectionpool.py\u001b[0m in \u001b[0;36m_make_request\u001b[0;34m(self, conn, method, url, timeout, chunked, **httplib_request_kw)\u001b[0m\n\u001b[1;32m    342\u001b[0m         \u001b[0;32mtry\u001b[0m\u001b[0;34m:\u001b[0m\u001b[0;34m\u001b[0m\u001b[0;34m\u001b[0m\u001b[0m\n\u001b[0;32m--> 343\u001b[0;31m             \u001b[0mself\u001b[0m\u001b[0;34m.\u001b[0m\u001b[0m_validate_conn\u001b[0m\u001b[0;34m(\u001b[0m\u001b[0mconn\u001b[0m\u001b[0;34m)\u001b[0m\u001b[0;34m\u001b[0m\u001b[0;34m\u001b[0m\u001b[0m\n\u001b[0m\u001b[1;32m    344\u001b[0m         \u001b[0;32mexcept\u001b[0m \u001b[0;34m(\u001b[0m\u001b[0mSocketTimeout\u001b[0m\u001b[0;34m,\u001b[0m \u001b[0mBaseSSLError\u001b[0m\u001b[0;34m)\u001b[0m \u001b[0;32mas\u001b[0m \u001b[0me\u001b[0m\u001b[0;34m:\u001b[0m\u001b[0;34m\u001b[0m\u001b[0;34m\u001b[0m\u001b[0m\n",
      "\u001b[0;32m~/anaconda3/lib/python3.7/site-packages/urllib3/connectionpool.py\u001b[0m in \u001b[0;36m_validate_conn\u001b[0;34m(self, conn)\u001b[0m\n\u001b[1;32m    838\u001b[0m         \u001b[0;32mif\u001b[0m \u001b[0;32mnot\u001b[0m \u001b[0mgetattr\u001b[0m\u001b[0;34m(\u001b[0m\u001b[0mconn\u001b[0m\u001b[0;34m,\u001b[0m \u001b[0;34m'sock'\u001b[0m\u001b[0;34m,\u001b[0m \u001b[0;32mNone\u001b[0m\u001b[0;34m)\u001b[0m\u001b[0;34m:\u001b[0m  \u001b[0;31m# AppEngine might not have  `.sock`\u001b[0m\u001b[0;34m\u001b[0m\u001b[0;34m\u001b[0m\u001b[0m\n\u001b[0;32m--> 839\u001b[0;31m             \u001b[0mconn\u001b[0m\u001b[0;34m.\u001b[0m\u001b[0mconnect\u001b[0m\u001b[0;34m(\u001b[0m\u001b[0;34m)\u001b[0m\u001b[0;34m\u001b[0m\u001b[0;34m\u001b[0m\u001b[0m\n\u001b[0m\u001b[1;32m    840\u001b[0m \u001b[0;34m\u001b[0m\u001b[0m\n",
      "\u001b[0;32m~/anaconda3/lib/python3.7/site-packages/urllib3/connection.py\u001b[0m in \u001b[0;36mconnect\u001b[0;34m(self)\u001b[0m\n\u001b[1;32m    300\u001b[0m         \u001b[0;31m# Add certificate verification\u001b[0m\u001b[0;34m\u001b[0m\u001b[0;34m\u001b[0m\u001b[0;34m\u001b[0m\u001b[0m\n\u001b[0;32m--> 301\u001b[0;31m         \u001b[0mconn\u001b[0m \u001b[0;34m=\u001b[0m \u001b[0mself\u001b[0m\u001b[0;34m.\u001b[0m\u001b[0m_new_conn\u001b[0m\u001b[0;34m(\u001b[0m\u001b[0;34m)\u001b[0m\u001b[0;34m\u001b[0m\u001b[0;34m\u001b[0m\u001b[0m\n\u001b[0m\u001b[1;32m    302\u001b[0m         \u001b[0mhostname\u001b[0m \u001b[0;34m=\u001b[0m \u001b[0mself\u001b[0m\u001b[0;34m.\u001b[0m\u001b[0mhost\u001b[0m\u001b[0;34m\u001b[0m\u001b[0;34m\u001b[0m\u001b[0m\n",
      "\u001b[0;32m~/anaconda3/lib/python3.7/site-packages/urllib3/connection.py\u001b[0m in \u001b[0;36m_new_conn\u001b[0;34m(self)\u001b[0m\n\u001b[1;32m    167\u001b[0m             raise NewConnectionError(\n\u001b[0;32m--> 168\u001b[0;31m                 self, \"Failed to establish a new connection: %s\" % e)\n\u001b[0m\u001b[1;32m    169\u001b[0m \u001b[0;34m\u001b[0m\u001b[0m\n",
      "\u001b[0;31mNewConnectionError\u001b[0m: <urllib3.connection.VerifiedHTTPSConnection object at 0x1105736a0>: Failed to establish a new connection: [Errno 50] Network is down",
      "\nDuring handling of the above exception, another exception occurred:\n",
      "\u001b[0;31mMaxRetryError\u001b[0m                             Traceback (most recent call last)",
      "\u001b[0;32m~/anaconda3/lib/python3.7/site-packages/requests/adapters.py\u001b[0m in \u001b[0;36msend\u001b[0;34m(self, request, stream, timeout, verify, cert, proxies)\u001b[0m\n\u001b[1;32m    448\u001b[0m                     \u001b[0mretries\u001b[0m\u001b[0;34m=\u001b[0m\u001b[0mself\u001b[0m\u001b[0;34m.\u001b[0m\u001b[0mmax_retries\u001b[0m\u001b[0;34m,\u001b[0m\u001b[0;34m\u001b[0m\u001b[0;34m\u001b[0m\u001b[0m\n\u001b[0;32m--> 449\u001b[0;31m                     \u001b[0mtimeout\u001b[0m\u001b[0;34m=\u001b[0m\u001b[0mtimeout\u001b[0m\u001b[0;34m\u001b[0m\u001b[0;34m\u001b[0m\u001b[0m\n\u001b[0m\u001b[1;32m    450\u001b[0m                 )\n",
      "\u001b[0;32m~/anaconda3/lib/python3.7/site-packages/urllib3/connectionpool.py\u001b[0m in \u001b[0;36murlopen\u001b[0;34m(self, method, url, body, headers, retries, redirect, assert_same_host, timeout, pool_timeout, release_conn, chunked, body_pos, **response_kw)\u001b[0m\n\u001b[1;32m    637\u001b[0m             retries = retries.increment(method, url, error=e, _pool=self,\n\u001b[0;32m--> 638\u001b[0;31m                                         _stacktrace=sys.exc_info()[2])\n\u001b[0m\u001b[1;32m    639\u001b[0m             \u001b[0mretries\u001b[0m\u001b[0;34m.\u001b[0m\u001b[0msleep\u001b[0m\u001b[0;34m(\u001b[0m\u001b[0;34m)\u001b[0m\u001b[0;34m\u001b[0m\u001b[0;34m\u001b[0m\u001b[0m\n",
      "\u001b[0;32m~/anaconda3/lib/python3.7/site-packages/urllib3/util/retry.py\u001b[0m in \u001b[0;36mincrement\u001b[0;34m(self, method, url, response, error, _pool, _stacktrace)\u001b[0m\n\u001b[1;32m    397\u001b[0m         \u001b[0;32mif\u001b[0m \u001b[0mnew_retry\u001b[0m\u001b[0;34m.\u001b[0m\u001b[0mis_exhausted\u001b[0m\u001b[0;34m(\u001b[0m\u001b[0;34m)\u001b[0m\u001b[0;34m:\u001b[0m\u001b[0;34m\u001b[0m\u001b[0;34m\u001b[0m\u001b[0m\n\u001b[0;32m--> 398\u001b[0;31m             \u001b[0;32mraise\u001b[0m \u001b[0mMaxRetryError\u001b[0m\u001b[0;34m(\u001b[0m\u001b[0m_pool\u001b[0m\u001b[0;34m,\u001b[0m \u001b[0murl\u001b[0m\u001b[0;34m,\u001b[0m \u001b[0merror\u001b[0m \u001b[0;32mor\u001b[0m \u001b[0mResponseError\u001b[0m\u001b[0;34m(\u001b[0m\u001b[0mcause\u001b[0m\u001b[0;34m)\u001b[0m\u001b[0;34m)\u001b[0m\u001b[0;34m\u001b[0m\u001b[0;34m\u001b[0m\u001b[0m\n\u001b[0m\u001b[1;32m    399\u001b[0m \u001b[0;34m\u001b[0m\u001b[0m\n",
      "\u001b[0;31mMaxRetryError\u001b[0m: HTTPSConnectionPool(host='curltalk.naturallycurly.com', port=443): Max retries exceeded with url: /discussion/188004/hair-looks-greasy-how-do-i-fix-this (Caused by NewConnectionError('<urllib3.connection.VerifiedHTTPSConnection object at 0x1105736a0>: Failed to establish a new connection: [Errno 50] Network is down'))",
      "\nDuring handling of the above exception, another exception occurred:\n",
      "\u001b[0;31mConnectionError\u001b[0m                           Traceback (most recent call last)",
      "\u001b[0;32m<ipython-input-3-69cd753df91a>\u001b[0m in \u001b[0;36m<module>\u001b[0;34m\u001b[0m\n\u001b[1;32m     27\u001b[0m     \u001b[0murl2\u001b[0m \u001b[0;34m=\u001b[0m \u001b[0mtopic\u001b[0m\u001b[0;34m\u001b[0m\u001b[0;34m\u001b[0m\u001b[0m\n\u001b[1;32m     28\u001b[0m     \u001b[0muser_agent\u001b[0m \u001b[0;34m=\u001b[0m  \u001b[0;34m'Mozilla/5.0 (Macintosh; Intel Mac OS X 10_14_5) AppleWebKit/537.36 (KHTML, like Gecko) Chrome/75.0.3770.100 Safari/537.36'\u001b[0m\u001b[0;34m\u001b[0m\u001b[0;34m\u001b[0m\u001b[0m\n\u001b[0;32m---> 29\u001b[0;31m     \u001b[0mhtml_page2\u001b[0m \u001b[0;34m=\u001b[0m \u001b[0mrequests\u001b[0m\u001b[0;34m.\u001b[0m\u001b[0mget\u001b[0m\u001b[0;34m(\u001b[0m\u001b[0murl2\u001b[0m\u001b[0;34m,\u001b[0m \u001b[0mheaders\u001b[0m \u001b[0;34m=\u001b[0m \u001b[0;34m{\u001b[0m\u001b[0;34m'User-Agent'\u001b[0m\u001b[0;34m:\u001b[0m \u001b[0muser_agent\u001b[0m\u001b[0;34m}\u001b[0m \u001b[0;34m)\u001b[0m\u001b[0;34m\u001b[0m\u001b[0;34m\u001b[0m\u001b[0m\n\u001b[0m\u001b[1;32m     30\u001b[0m \u001b[0;34m\u001b[0m\u001b[0m\n\u001b[1;32m     31\u001b[0m     \u001b[0;32mif\u001b[0m \u001b[0mstatus\u001b[0m \u001b[0;34m!=\u001b[0m \u001b[0;36m200\u001b[0m\u001b[0;34m:\u001b[0m\u001b[0;34m\u001b[0m\u001b[0;34m\u001b[0m\u001b[0m\n",
      "\u001b[0;32m~/anaconda3/lib/python3.7/site-packages/requests/api.py\u001b[0m in \u001b[0;36mget\u001b[0;34m(url, params, **kwargs)\u001b[0m\n\u001b[1;32m     73\u001b[0m \u001b[0;34m\u001b[0m\u001b[0m\n\u001b[1;32m     74\u001b[0m     \u001b[0mkwargs\u001b[0m\u001b[0;34m.\u001b[0m\u001b[0msetdefault\u001b[0m\u001b[0;34m(\u001b[0m\u001b[0;34m'allow_redirects'\u001b[0m\u001b[0;34m,\u001b[0m \u001b[0;32mTrue\u001b[0m\u001b[0;34m)\u001b[0m\u001b[0;34m\u001b[0m\u001b[0;34m\u001b[0m\u001b[0m\n\u001b[0;32m---> 75\u001b[0;31m     \u001b[0;32mreturn\u001b[0m \u001b[0mrequest\u001b[0m\u001b[0;34m(\u001b[0m\u001b[0;34m'get'\u001b[0m\u001b[0;34m,\u001b[0m \u001b[0murl\u001b[0m\u001b[0;34m,\u001b[0m \u001b[0mparams\u001b[0m\u001b[0;34m=\u001b[0m\u001b[0mparams\u001b[0m\u001b[0;34m,\u001b[0m \u001b[0;34m**\u001b[0m\u001b[0mkwargs\u001b[0m\u001b[0;34m)\u001b[0m\u001b[0;34m\u001b[0m\u001b[0;34m\u001b[0m\u001b[0m\n\u001b[0m\u001b[1;32m     76\u001b[0m \u001b[0;34m\u001b[0m\u001b[0m\n\u001b[1;32m     77\u001b[0m \u001b[0;34m\u001b[0m\u001b[0m\n",
      "\u001b[0;32m~/anaconda3/lib/python3.7/site-packages/requests/api.py\u001b[0m in \u001b[0;36mrequest\u001b[0;34m(method, url, **kwargs)\u001b[0m\n\u001b[1;32m     58\u001b[0m     \u001b[0;31m# cases, and look like a memory leak in others.\u001b[0m\u001b[0;34m\u001b[0m\u001b[0;34m\u001b[0m\u001b[0;34m\u001b[0m\u001b[0m\n\u001b[1;32m     59\u001b[0m     \u001b[0;32mwith\u001b[0m \u001b[0msessions\u001b[0m\u001b[0;34m.\u001b[0m\u001b[0mSession\u001b[0m\u001b[0;34m(\u001b[0m\u001b[0;34m)\u001b[0m \u001b[0;32mas\u001b[0m \u001b[0msession\u001b[0m\u001b[0;34m:\u001b[0m\u001b[0;34m\u001b[0m\u001b[0;34m\u001b[0m\u001b[0m\n\u001b[0;32m---> 60\u001b[0;31m         \u001b[0;32mreturn\u001b[0m \u001b[0msession\u001b[0m\u001b[0;34m.\u001b[0m\u001b[0mrequest\u001b[0m\u001b[0;34m(\u001b[0m\u001b[0mmethod\u001b[0m\u001b[0;34m=\u001b[0m\u001b[0mmethod\u001b[0m\u001b[0;34m,\u001b[0m \u001b[0murl\u001b[0m\u001b[0;34m=\u001b[0m\u001b[0murl\u001b[0m\u001b[0;34m,\u001b[0m \u001b[0;34m**\u001b[0m\u001b[0mkwargs\u001b[0m\u001b[0;34m)\u001b[0m\u001b[0;34m\u001b[0m\u001b[0;34m\u001b[0m\u001b[0m\n\u001b[0m\u001b[1;32m     61\u001b[0m \u001b[0;34m\u001b[0m\u001b[0m\n\u001b[1;32m     62\u001b[0m \u001b[0;34m\u001b[0m\u001b[0m\n",
      "\u001b[0;32m~/anaconda3/lib/python3.7/site-packages/requests/sessions.py\u001b[0m in \u001b[0;36mrequest\u001b[0;34m(self, method, url, params, data, headers, cookies, files, auth, timeout, allow_redirects, proxies, hooks, stream, verify, cert, json)\u001b[0m\n\u001b[1;32m    531\u001b[0m         }\n\u001b[1;32m    532\u001b[0m         \u001b[0msend_kwargs\u001b[0m\u001b[0;34m.\u001b[0m\u001b[0mupdate\u001b[0m\u001b[0;34m(\u001b[0m\u001b[0msettings\u001b[0m\u001b[0;34m)\u001b[0m\u001b[0;34m\u001b[0m\u001b[0;34m\u001b[0m\u001b[0m\n\u001b[0;32m--> 533\u001b[0;31m         \u001b[0mresp\u001b[0m \u001b[0;34m=\u001b[0m \u001b[0mself\u001b[0m\u001b[0;34m.\u001b[0m\u001b[0msend\u001b[0m\u001b[0;34m(\u001b[0m\u001b[0mprep\u001b[0m\u001b[0;34m,\u001b[0m \u001b[0;34m**\u001b[0m\u001b[0msend_kwargs\u001b[0m\u001b[0;34m)\u001b[0m\u001b[0;34m\u001b[0m\u001b[0;34m\u001b[0m\u001b[0m\n\u001b[0m\u001b[1;32m    534\u001b[0m \u001b[0;34m\u001b[0m\u001b[0m\n\u001b[1;32m    535\u001b[0m         \u001b[0;32mreturn\u001b[0m \u001b[0mresp\u001b[0m\u001b[0;34m\u001b[0m\u001b[0;34m\u001b[0m\u001b[0m\n",
      "\u001b[0;32m~/anaconda3/lib/python3.7/site-packages/requests/sessions.py\u001b[0m in \u001b[0;36msend\u001b[0;34m(self, request, **kwargs)\u001b[0m\n\u001b[1;32m    644\u001b[0m \u001b[0;34m\u001b[0m\u001b[0m\n\u001b[1;32m    645\u001b[0m         \u001b[0;31m# Send the request\u001b[0m\u001b[0;34m\u001b[0m\u001b[0;34m\u001b[0m\u001b[0;34m\u001b[0m\u001b[0m\n\u001b[0;32m--> 646\u001b[0;31m         \u001b[0mr\u001b[0m \u001b[0;34m=\u001b[0m \u001b[0madapter\u001b[0m\u001b[0;34m.\u001b[0m\u001b[0msend\u001b[0m\u001b[0;34m(\u001b[0m\u001b[0mrequest\u001b[0m\u001b[0;34m,\u001b[0m \u001b[0;34m**\u001b[0m\u001b[0mkwargs\u001b[0m\u001b[0;34m)\u001b[0m\u001b[0;34m\u001b[0m\u001b[0;34m\u001b[0m\u001b[0m\n\u001b[0m\u001b[1;32m    647\u001b[0m \u001b[0;34m\u001b[0m\u001b[0m\n\u001b[1;32m    648\u001b[0m         \u001b[0;31m# Total elapsed time of the request (approximately)\u001b[0m\u001b[0;34m\u001b[0m\u001b[0;34m\u001b[0m\u001b[0;34m\u001b[0m\u001b[0m\n",
      "\u001b[0;32m~/anaconda3/lib/python3.7/site-packages/requests/adapters.py\u001b[0m in \u001b[0;36msend\u001b[0;34m(self, request, stream, timeout, verify, cert, proxies)\u001b[0m\n\u001b[1;32m    514\u001b[0m                 \u001b[0;32mraise\u001b[0m \u001b[0mSSLError\u001b[0m\u001b[0;34m(\u001b[0m\u001b[0me\u001b[0m\u001b[0;34m,\u001b[0m \u001b[0mrequest\u001b[0m\u001b[0;34m=\u001b[0m\u001b[0mrequest\u001b[0m\u001b[0;34m)\u001b[0m\u001b[0;34m\u001b[0m\u001b[0;34m\u001b[0m\u001b[0m\n\u001b[1;32m    515\u001b[0m \u001b[0;34m\u001b[0m\u001b[0m\n\u001b[0;32m--> 516\u001b[0;31m             \u001b[0;32mraise\u001b[0m \u001b[0mConnectionError\u001b[0m\u001b[0;34m(\u001b[0m\u001b[0me\u001b[0m\u001b[0;34m,\u001b[0m \u001b[0mrequest\u001b[0m\u001b[0;34m=\u001b[0m\u001b[0mrequest\u001b[0m\u001b[0;34m)\u001b[0m\u001b[0;34m\u001b[0m\u001b[0;34m\u001b[0m\u001b[0m\n\u001b[0m\u001b[1;32m    517\u001b[0m \u001b[0;34m\u001b[0m\u001b[0m\n\u001b[1;32m    518\u001b[0m         \u001b[0;32mexcept\u001b[0m \u001b[0mClosedPoolError\u001b[0m \u001b[0;32mas\u001b[0m \u001b[0me\u001b[0m\u001b[0;34m:\u001b[0m\u001b[0;34m\u001b[0m\u001b[0;34m\u001b[0m\u001b[0m\n",
      "\u001b[0;31mConnectionError\u001b[0m: HTTPSConnectionPool(host='curltalk.naturallycurly.com', port=443): Max retries exceeded with url: /discussion/188004/hair-looks-greasy-how-do-i-fix-this (Caused by NewConnectionError('<urllib3.connection.VerifiedHTTPSConnection object at 0x1105736a0>: Failed to establish a new connection: [Errno 50] Network is down'))"
     ]
    }
   ],
   "source": [
    "# %%time\n",
    "\n",
    "link_listdiscussion = []\n",
    "for i in range(1, 11):\n",
    "    url = f'{categories[5]}/p{i}'\n",
    "    print(url)\n",
    "    user_agent =  'Mozilla/5.0 (Macintosh; Intel Mac OS X 10_14_5) AppleWebKit/537.36 (KHTML, like Gecko) Chrome/75.0.3770.100 Safari/537.36'\n",
    "    html_page = requests.get(url, headers = {'User-Agent': user_agent} ) #Make a get request to retrieve the page\n",
    "     \n",
    "    # Check status code for an appropriate response fromt the API\n",
    "    status = html_page.status_code\n",
    "    if status != 200:\n",
    "        print(f'Error improper response code. Code is {status}')\n",
    "        break\n",
    "    soup = BeautifulSoup(html_page.content, 'html.parser') #Pass the page contents to beautiful soup for parsing\n",
    "    page1_of_discussion = []\n",
    "    time.sleep(random.randint(15,30))\n",
    "    for link in soup.find_all('a'):\n",
    "        link_listdiscussion.append(link.get('href'))\n",
    "        topics = [s for s in link_listdiscussion if ((\"/discussion\" in s) and ('https' in s))]\n",
    "\n",
    "print(len(topics))     \n",
    "# Loop through all the topics found for each catagory        \n",
    "list_for_mongo = []\n",
    "count = 1\n",
    "for topic in topics:\n",
    "    url2 = topic\n",
    "    user_agent =  'Mozilla/5.0 (Macintosh; Intel Mac OS X 10_14_5) AppleWebKit/537.36 (KHTML, like Gecko) Chrome/75.0.3770.100 Safari/537.36'\n",
    "    html_page2 = requests.get(url2, headers = {'User-Agent': user_agent} )\n",
    "    \n",
    "    if status != 200:\n",
    "        print(f'Error improper response code. Code is {status}')\n",
    "        break\n",
    "        \n",
    "    soup2 = BeautifulSoup(html_page2.content, 'html.parser')\n",
    "    signatures = soup2.find_all('div', class_=\"Signature UserSignature userContent\")\n",
    "    \n",
    "    for i in range(0,len(signatures)):\n",
    "        sig = {}\n",
    "        sig['signature'] = soup2.find_all('div', class_=\"Signature UserSignature userContent\")[i].get_text()\n",
    "        list_for_mongo.append(sig)\n",
    "    time.sleep(random.randint(20,60))\n",
    "    print(count)\n",
    "    count += 1\n",
    "    "
   ]
  },
  {
   "cell_type": "code",
   "execution_count": 4,
   "metadata": {},
   "outputs": [
    {
     "data": {
      "text/plain": [
       "[{'signature': \"Animal obsessed wavy with a love for writing\\xa02B/2C Indian wavy, low-medium porosity, medium-high density, coarse hairShampoo: WOW Miracle 10-in-1 ShampooConditioner: WOW Argan Oil ConditionerGel: Arata Hair GelDC/ Treatment: Shea Moisture Manuka Honey and Mafura Oil Intensive Hydration MasqueClarifying Shampoo: Pantene Lively CleanCG since May '18After nearly two decades of neglect, CG finally helped me embrace my hair as a part and parcel of my identity\"},\n",
       " {'signature': \"Animal obsessed wavy with a love for writing\\xa02B/2C Indian wavy, low-medium porosity, medium-high density, coarse hairShampoo: WOW Miracle 10-in-1 ShampooConditioner: WOW Argan Oil ConditionerGel: Arata Hair GelDC/ Treatment: Shea Moisture Manuka Honey and Mafura Oil Intensive Hydration MasqueClarifying Shampoo: Pantene Lively CleanCG since May '18After nearly two decades of neglect, CG finally helped me embrace my hair as a part and parcel of my identity\"},\n",
       " {'signature': \"Formerly known as Janiegirl2B/2C, fine hair, low density, mixed porosity, protein loving hairCurrent products:Changing up my shampoos because I can't find one I likeDeva Curl One Condition (original formula)Innersense I Create VolumeDeva Curl Ultra Defining Gel\"},\n",
       " {'signature': 'Current 2B/2C Routine:Cleanse -\\xa0\\xa0NYM Curl Talk Shampoo or NYM Clean Freak Cleansing ConditionerCondition -\\xa0Elucence Moisure Balance ConditionerTreatments - Olaplex (step 3)\\xa0or Elucence Moisture Repair TreatmentStyle -\\xa0\\xa0Briogeo Rosarco Milk Leave In\\xa0+ AG Re:Coil'},\n",
       " {'signature': \"Animal obsessed wavy with a love for writing\\xa02B/2C Indian wavy, low-medium porosity, medium-high density, coarse hairShampoo: WOW Miracle 10-in-1 ShampooConditioner: WOW Argan Oil ConditionerGel: Arata Hair GelDC/ Treatment: Shea Moisture Manuka Honey and Mafura Oil Intensive Hydration MasqueClarifying Shampoo: Pantene Lively CleanCG since May '18After nearly two decades of neglect, CG finally helped me embrace my hair as a part and parcel of my identity\"},\n",
       " {'signature': '2c/3a | low porosity | fine/medium | low/medium density| protein,coconut, and green tea sensitive | Modified CGMLow-Poo:\\xa0 Jessicurl Hair Cleansing CreamSulfate Wash: Aveda Rosemary Mint Purifying ShampooRinse Out Conditioner: DevalCurl One ConditionLeave-In Conditioner:\\xa0Curl Junkie Smoothing LotionDeep Conditioner:\\xa0DevaCurl Heaven In HairCurl Enhancer: Curl Junkie Spiral LotionGel: Jessicurl\\xa0Spiralicious\\xa0Gel'},\n",
       " {'signature': 'Gretchen\\nNaturallyCurly.com co-founder\\n3A\\n\\nYou are beautiful!'},\n",
       " {'signature': '“Do your best and leave the rest, for it’ll all come right some day or night”'},\n",
       " {'signature': \"Clean: SM Moisture Retention Shampoo\\nCondition: SM Restorative Conditioner, Ion Effective Care Treatment, GVP Conditioning Balm\\nStyle: AIACJ, L'Oreal Everstyle Strong Hold Defining Gel, BRHG\"},\n",
       " {'signature': '2(I have no idea what pattern), low porosity, mix of medium and coarse, dense\\n\\n*Have just discovered the amazingness that is the \"Spritz and Condish\" routine* :toothy10::toothy10::toothy10:\\n\\nShampoo: SM Moisture Retention Shampoo\\nCo-wash: VO5 Vanilla Mint Tea Clarifying Conditioner\\nRO: GVP CB, Garnier Triple Nutrition\\nLI : Whatever conditioner I used + EVOO or Argon oil\\nStylers: Organix Moroccan Curling Perfection Defining Creme, EcoStyler Gel (krystal)'},\n",
       " {'signature': \"2a/b, high porosity, fine strands, average density, just about shoulder blade length\\n\\nMy hair loves moisture!\\n\\ncurrently mod-cg , using low-poo and not totally cone-free yet. I'll get there though!\"},\n",
       " {'signature': \"2a/b, high porosity, fine strands, average density, just about shoulder blade length\\n\\nMy hair loves moisture!\\n\\ncurrently mod-cg , using low-poo and not totally cone-free yet. I'll get there though!\"},\n",
       " {'signature': 'Current 2B/2C Routine:Cleanse -\\xa0\\xa0NYM Curl Talk Shampoo or NYM Clean Freak Cleansing ConditionerCondition -\\xa0Elucence Moisure Balance ConditionerTreatments - Olaplex (step 3)\\xa0or Elucence Moisture Repair TreatmentStyle -\\xa0\\xa0Briogeo Rosarco Milk Leave In\\xa0+ AG Re:Coil'},\n",
       " {'signature': 'Low poo: Intelligent Nutrients (IN) Harmonic; Oribe Cleansing Creme\\nRO: IN Harmonic\\nLI: CJ Beauticurls; Jessicurl (JC) Gelebration SprayDC:\\xa0JC Deep Conditioning Treatment; Weleda Rosemary Conditioning Oil\\nStylers: JC Confident Coils; IN Volumizing Spray; IN Perfect Hold Hairspray; John Masters Sea Mist; Bumble Bb. Gel; Kenra Firm-Hold Gel; Sevi Blue Yarrow Sea Salt Spray\\nLow-porosity 2a/b baby-fine hair'},\n",
       " {'signature': 'Current 2B/2C Routine:Cleanse -\\xa0\\xa0NYM Curl Talk Shampoo or NYM Clean Freak Cleansing ConditionerCondition -\\xa0Elucence Moisure Balance ConditionerTreatments - Olaplex (step 3)\\xa0or Elucence Moisture Repair TreatmentStyle -\\xa0\\xa0Briogeo Rosarco Milk Leave In\\xa0+ AG Re:Coil'},\n",
       " {'signature': '2C/3A long hair with some 3C thrown inHigh Porosity, dense, coarse hairI make my own protein masks'},\n",
       " {'signature': '2C/3A long hair with some 3C thrown inHigh Porosity, dense, coarse hairI make my own protein masks'},\n",
       " {'signature': '2C Fine, long hair, a ton of it. Blonde balayage. East Coast Canadian.\\xa0Wash: Live Clean Fresh Water Hydrating ShampooMonthly Scalp Cleanse: Baking Soda/Conditioner/Peppermint Essential OilCO: Garnier Whole Blends Legendary Olive Conditioner\\nStyling: Devacurl Volumizing Foam, Devacurl Wave Maker, Garnier Curl Treat JellyRefresh Day: Klorane Dry Shampoo with Nettle, Devacurl SupercreamDeep Condition: Shea Moisture Manuka Honey & Yogurt TreatmentMy whole wash routine is upside-down... detangling, rinsing, applying products, scrunching, diffusing... the bigger the waves, the better!\\xa0\\xa0'},\n",
       " {'signature': 'Low poo: Intelligent Nutrients (IN) Harmonic; Oribe Cleansing Creme\\nRO: IN Harmonic\\nLI: CJ Beauticurls; Jessicurl (JC) Gelebration SprayDC:\\xa0JC Deep Conditioning Treatment; Weleda Rosemary Conditioning Oil\\nStylers: JC Confident Coils; IN Volumizing Spray; IN Perfect Hold Hairspray; John Masters Sea Mist; Bumble Bb. Gel; Kenra Firm-Hold Gel; Sevi Blue Yarrow Sea Salt Spray\\nLow-porosity 2a/b baby-fine hair'},\n",
       " {'signature': '2c/3a | low porosity | fine/medium | low/medium density| protein,coconut, and green tea sensitive | Modified CGMLow-Poo:\\xa0 Jessicurl Hair Cleansing CreamSulfate Wash: Aveda Rosemary Mint Purifying ShampooRinse Out Conditioner: DevalCurl One ConditionLeave-In Conditioner:\\xa0Curl Junkie Smoothing LotionDeep Conditioner:\\xa0DevaCurl Heaven In HairCurl Enhancer: Curl Junkie Spiral LotionGel: Jessicurl\\xa0Spiralicious\\xa0Gel'},\n",
       " {'signature': \"Formerly known as Janiegirl2B/2C, fine hair, low density, mixed porosity, protein loving hairCurrent products:Changing up my shampoos because I can't find one I likeDeva Curl One Condition (original formula)Innersense I Create VolumeDeva Curl Ultra Defining Gel\"},\n",
       " {'signature': '2c/3a | low porosity | fine/medium | low/medium density| protein,coconut, and green tea sensitive | Modified CGMLow-Poo:\\xa0 Jessicurl Hair Cleansing CreamSulfate Wash: Aveda Rosemary Mint Purifying ShampooRinse Out Conditioner: DevalCurl One ConditionLeave-In Conditioner:\\xa0Curl Junkie Smoothing LotionDeep Conditioner:\\xa0DevaCurl Heaven In HairCurl Enhancer: Curl Junkie Spiral LotionGel: Jessicurl\\xa0Spiralicious\\xa0Gel'},\n",
       " {'signature': \"Type: 3a/3bHair strand thickness: medium/coarseDensity: thickPorosity: low at roots/normal mid-shaft/high at endsSensitivity to protein: noCleanse: DC Low-pooClarify: Build up buster, Malibu-C Un do gooDT: DC Melt into moisture, Curly Hair Solutions Pure Silk Protein Treatment, occasional fermented rice waterCondition: DC One Condition Original and One Condition DecadenceStyle: DC ArcAngel, DC UDG, Curl Keeper Original, Jessicurl Confident coils, Spiralicious, Deva B'leave in\"},\n",
       " {'signature': '2c/3a | low porosity | fine/medium | low/medium density| protein,coconut, and green tea sensitive | Modified CGMLow-Poo:\\xa0 Jessicurl Hair Cleansing CreamSulfate Wash: Aveda Rosemary Mint Purifying ShampooRinse Out Conditioner: DevalCurl One ConditionLeave-In Conditioner:\\xa0Curl Junkie Smoothing LotionDeep Conditioner:\\xa0DevaCurl Heaven In HairCurl Enhancer: Curl Junkie Spiral LotionGel: Jessicurl\\xa0Spiralicious\\xa0Gel'},\n",
       " {'signature': '2/c Coarse hair med. density.\\nHighly porous. Color over grey.\\nI love all the Curl Junkie products. Still experimenting with gels and curl creams. Still hoping for 2nd day hair....\\n Every day is a gift :flower:'},\n",
       " {'signature': 'Kayla\\nYoutube - Website\\n4b/Density:iii/Strands:Fine, MBL'},\n",
       " {'signature': \"Formerly known as Janiegirl2B/2C, fine hair, low density, mixed porosity, protein loving hairCurrent products:Changing up my shampoos because I can't find one I likeDeva Curl One Condition (original formula)Innersense I Create VolumeDeva Curl Ultra Defining Gel\"},\n",
       " {'signature': 'Low poo: Intelligent Nutrients (IN) Harmonic; Oribe Cleansing Creme\\nRO: IN Harmonic\\nLI: CJ Beauticurls; Jessicurl (JC) Gelebration SprayDC:\\xa0JC Deep Conditioning Treatment; Weleda Rosemary Conditioning Oil\\nStylers: JC Confident Coils; IN Volumizing Spray; IN Perfect Hold Hairspray; John Masters Sea Mist; Bumble Bb. Gel; Kenra Firm-Hold Gel; Sevi Blue Yarrow Sea Salt Spray\\nLow-porosity 2a/b baby-fine hair'},\n",
       " {'signature': '2c/3a | low porosity | fine/medium | low/medium density| protein,coconut, and green tea sensitive | Modified CGMLow-Poo:\\xa0 Jessicurl Hair Cleansing CreamSulfate Wash: Aveda Rosemary Mint Purifying ShampooRinse Out Conditioner: DevalCurl One ConditionLeave-In Conditioner:\\xa0Curl Junkie Smoothing LotionDeep Conditioner:\\xa0DevaCurl Heaven In HairCurl Enhancer: Curl Junkie Spiral LotionGel: Jessicurl\\xa0Spiralicious\\xa0Gel'},\n",
       " {'signature': '2C Fine, long hair, a ton of it. Blonde balayage. East Coast Canadian.\\xa0Wash: Live Clean Fresh Water Hydrating ShampooMonthly Scalp Cleanse: Baking Soda/Conditioner/Peppermint Essential OilCO: Garnier Whole Blends Legendary Olive Conditioner\\nStyling: Devacurl Volumizing Foam, Devacurl Wave Maker, Garnier Curl Treat JellyRefresh Day: Klorane Dry Shampoo with Nettle, Devacurl SupercreamDeep Condition: Shea Moisture Manuka Honey & Yogurt TreatmentMy whole wash routine is upside-down... detangling, rinsing, applying products, scrunching, diffusing... the bigger the waves, the better!\\xa0\\xa0'},\n",
       " {'signature': \"Formerly known as Janiegirl2B/2C, fine hair, low density, mixed porosity, protein loving hairCurrent products:Changing up my shampoos because I can't find one I likeDeva Curl One Condition (original formula)Innersense I Create VolumeDeva Curl Ultra Defining Gel\"},\n",
       " {'signature': 'I just created an Instagram account on the evolution of my curly hair journey !\\xa0It will be a pleasure to find you there\\xa0  https://www.instagram.com/socurls/@socurls'},\n",
       " {'signature': 'rabar2c/3a/3b, coarse, med-high porosity, medium densityformerly CG method'},\n",
       " {'signature': 'Low poo: Intelligent Nutrients (IN) Harmonic; Oribe Cleansing Creme\\nRO: IN Harmonic\\nLI: CJ Beauticurls; Jessicurl (JC) Gelebration SprayDC:\\xa0JC Deep Conditioning Treatment; Weleda Rosemary Conditioning Oil\\nStylers: JC Confident Coils; IN Volumizing Spray; IN Perfect Hold Hairspray; John Masters Sea Mist; Bumble Bb. Gel; Kenra Firm-Hold Gel; Sevi Blue Yarrow Sea Salt Spray\\nLow-porosity 2a/b baby-fine hair'},\n",
       " {'signature': \"--I'm located in Western PA.\\xa0 \\xa0--I found NC in late 2004, CG since February 2005, joined the forums in May 2005, started going grey in late 2005.\\xa0 \\xa0--My hair is 3B with some 3A, currently at mid back length when dry,\\xa0 texture-medium/fine, porosity-top is low, middle is medium, ends are porous, elasticity-normal.\\xa0 \\xa0--My long time favorite products are Suave & VO5 conditioners, LA Looks Sport Gel, coconut oil, honey, vinegar.\\xa0 \\xa0--My CG and grey hair progress -\\xa0\\xa0http://www.naturallycurly.com/curltalk/going-gray/179328-jeepys-grey-hair-progress.html\\xa0 \\xa0--My article at NaturallyCurly about going grey -\\xa0https://www.naturallycurly.com/curlreading/color/how-i-went-completely-gray-and-loved-it\"},\n",
       " {'signature': \"Formerly known as Janiegirl2B/2C, fine hair, low density, mixed porosity, protein loving hairCurrent products:Changing up my shampoos because I can't find one I likeDeva Curl One Condition (original formula)Innersense I Create VolumeDeva Curl Ultra Defining Gel\"},\n",
       " {'signature': \"Formerly known as Janiegirl2B/2C, fine hair, low density, mixed porosity, protein loving hairCurrent products:Changing up my shampoos because I can't find one I likeDeva Curl One Condition (original formula)Innersense I Create VolumeDeva Curl Ultra Defining Gel\"},\n",
       " {'signature': 'Low poo: Intelligent Nutrients (IN) Harmonic; Oribe Cleansing Creme\\nRO: IN Harmonic\\nLI: CJ Beauticurls; Jessicurl (JC) Gelebration SprayDC:\\xa0JC Deep Conditioning Treatment; Weleda Rosemary Conditioning Oil\\nStylers: JC Confident Coils; IN Volumizing Spray; IN Perfect Hold Hairspray; John Masters Sea Mist; Bumble Bb. Gel; Kenra Firm-Hold Gel; Sevi Blue Yarrow Sea Salt Spray\\nLow-porosity 2a/b baby-fine hair'},\n",
       " {'signature': 'rabar2c/3a/3b, coarse, med-high porosity, medium densityformerly CG method'},\n",
       " {'signature': \"Formerly known as Janiegirl2B/2C, fine hair, low density, mixed porosity, protein loving hairCurrent products:Changing up my shampoos because I can't find one I likeDeva Curl One Condition (original formula)Innersense I Create VolumeDeva Curl Ultra Defining Gel\"},\n",
       " {'signature': 'Low poo: Intelligent Nutrients (IN) Harmonic; Oribe Cleansing Creme\\nRO: IN Harmonic\\nLI: CJ Beauticurls; Jessicurl (JC) Gelebration SprayDC:\\xa0JC Deep Conditioning Treatment; Weleda Rosemary Conditioning Oil\\nStylers: JC Confident Coils; IN Volumizing Spray; IN Perfect Hold Hairspray; John Masters Sea Mist; Bumble Bb. Gel; Kenra Firm-Hold Gel; Sevi Blue Yarrow Sea Salt Spray\\nLow-porosity 2a/b baby-fine hair'},\n",
       " {'signature': 'Innsersense Pure Harmony Hairbath, Pure Inspiration Conditioner, Sweet Spirit leave-in, I Create Hold gel'},\n",
       " {'signature': \"Formerly known as Janiegirl2B/2C, fine hair, low density, mixed porosity, protein loving hairCurrent products:Changing up my shampoos because I can't find one I likeDeva Curl One Condition (original formula)Innersense I Create VolumeDeva Curl Ultra Defining Gel\"},\n",
       " {'signature': '2/c Coarse hair med. density.\\nHighly porous. Color over grey.\\nI love all the Curl Junkie products. Still experimenting with gels and curl creams. Still hoping for 2nd day hair....\\n Every day is a gift :flower:'},\n",
       " {'signature': 'rabar2c/3a/3b, coarse, med-high porosity, medium densityformerly CG method'},\n",
       " {'signature': '2/c Coarse hair med. density.\\nHighly porous. Color over grey.\\nI love all the Curl Junkie products. Still experimenting with gels and curl creams. Still hoping for 2nd day hair....\\n Every day is a gift :flower:'},\n",
       " {'signature': \"Formerly known as Janiegirl2B/2C, fine hair, low density, mixed porosity, protein loving hairCurrent products:Changing up my shampoos because I can't find one I likeDeva Curl One Condition (original formula)Innersense I Create VolumeDeva Curl Ultra Defining Gel\"},\n",
       " {'signature': '2/c Coarse hair med. density.\\nHighly porous. Color over grey.\\nI love all the Curl Junkie products. Still experimenting with gels and curl creams. Still hoping for 2nd day hair....\\n Every day is a gift :flower:'},\n",
       " {'signature': \"Formerly known as Janiegirl2B/2C, fine hair, low density, mixed porosity, protein loving hairCurrent products:Changing up my shampoos because I can't find one I likeDeva Curl One Condition (original formula)Innersense I Create VolumeDeva Curl Ultra Defining Gel\"},\n",
       " {'signature': '2C Fine, long hair, a ton of it. Blonde balayage. East Coast Canadian.\\xa0Wash: Live Clean Fresh Water Hydrating ShampooMonthly Scalp Cleanse: Baking Soda/Conditioner/Peppermint Essential OilCO: Garnier Whole Blends Legendary Olive Conditioner\\nStyling: Devacurl Volumizing Foam, Devacurl Wave Maker, Garnier Curl Treat JellyRefresh Day: Klorane Dry Shampoo with Nettle, Devacurl SupercreamDeep Condition: Shea Moisture Manuka Honey & Yogurt TreatmentMy whole wash routine is upside-down... detangling, rinsing, applying products, scrunching, diffusing... the bigger the waves, the better!\\xa0\\xa0'},\n",
       " {'signature': '2/c Coarse hair med. density.\\nHighly porous. Color over grey.\\nI love all the Curl Junkie products. Still experimenting with gels and curl creams. Still hoping for 2nd day hair....\\n Every day is a gift :flower:'},\n",
       " {'signature': 'Low poo: Intelligent Nutrients (IN) Harmonic; Oribe Cleansing Creme\\nRO: IN Harmonic\\nLI: CJ Beauticurls; Jessicurl (JC) Gelebration SprayDC:\\xa0JC Deep Conditioning Treatment; Weleda Rosemary Conditioning Oil\\nStylers: JC Confident Coils; IN Volumizing Spray; IN Perfect Hold Hairspray; John Masters Sea Mist; Bumble Bb. Gel; Kenra Firm-Hold Gel; Sevi Blue Yarrow Sea Salt Spray\\nLow-porosity 2a/b baby-fine hair'},\n",
       " {'signature': '2/c Coarse hair med. density.\\nHighly porous. Color over grey.\\nI love all the Curl Junkie products. Still experimenting with gels and curl creams. Still hoping for 2nd day hair....\\n Every day is a gift :flower:'},\n",
       " {'signature': 'Low poo: Intelligent Nutrients (IN) Harmonic; Oribe Cleansing Creme\\nRO: IN Harmonic\\nLI: CJ Beauticurls; Jessicurl (JC) Gelebration SprayDC:\\xa0JC Deep Conditioning Treatment; Weleda Rosemary Conditioning Oil\\nStylers: JC Confident Coils; IN Volumizing Spray; IN Perfect Hold Hairspray; John Masters Sea Mist; Bumble Bb. Gel; Kenra Firm-Hold Gel; Sevi Blue Yarrow Sea Salt Spray\\nLow-porosity 2a/b baby-fine hair'},\n",
       " {'signature': \"--I'm located in Western PA.\\xa0 \\xa0--I found NC in late 2004, CG since February 2005, joined the forums in May 2005, started going grey in late 2005.\\xa0 \\xa0--My hair is 3B with some 3A, currently at mid back length when dry,\\xa0 texture-medium/fine, porosity-top is low, middle is medium, ends are porous, elasticity-normal.\\xa0 \\xa0--My long time favorite products are Suave & VO5 conditioners, LA Looks Sport Gel, coconut oil, honey, vinegar.\\xa0 \\xa0--My CG and grey hair progress -\\xa0\\xa0http://www.naturallycurly.com/curltalk/going-gray/179328-jeepys-grey-hair-progress.html\\xa0 \\xa0--My article at NaturallyCurly about going grey -\\xa0https://www.naturallycurly.com/curlreading/color/how-i-went-completely-gray-and-loved-it\"},\n",
       " {'signature': '2/c Coarse hair med. density.\\nHighly porous. Color over grey.\\nI love all the Curl Junkie products. Still experimenting with gels and curl creams. Still hoping for 2nd day hair....\\n Every day is a gift :flower:'}]"
      ]
     },
     "execution_count": 4,
     "metadata": {},
     "output_type": "execute_result"
    }
   ],
   "source": [
    "list_for_mongo"
   ]
  },
  {
   "cell_type": "markdown",
   "metadata": {},
   "source": [
    "### Create a mongoDB and have data stored from scrape "
   ]
  },
  {
   "cell_type": "code",
   "execution_count": 5,
   "metadata": {},
   "outputs": [],
   "source": [
    "# DB creation \n",
    "myclient = pymongo.MongoClient(\"mongodb://127.0.0.1:27017/\")\n",
    "curlydb = myclient['Naturaly_Curly_db']\n",
    "curly_collection = curlydb['curly_profiles']"
   ]
  },
  {
   "cell_type": "code",
   "execution_count": 6,
   "metadata": {},
   "outputs": [],
   "source": [
    "entry2 = curly_collection.insert_many(list_for_mongo)"
   ]
  },
  {
   "cell_type": "code",
   "execution_count": 16,
   "metadata": {},
   "outputs": [
    {
     "name": "stdout",
     "output_type": "stream",
     "text": [
      "13440\n"
     ]
    }
   ],
   "source": [
    "query_1 = curly_collection.find({})\n",
    "test = []\n",
    "for x in query_1:\n",
    "    test.append(x['signature'])\n",
    "    #print(x)\n",
    "print(len(test))    "
   ]
  },
  {
   "cell_type": "code",
   "execution_count": 18,
   "metadata": {},
   "outputs": [],
   "source": [
    "test_set = set(test)"
   ]
  },
  {
   "cell_type": "code",
   "execution_count": 19,
   "metadata": {},
   "outputs": [
    {
     "data": {
      "text/plain": [
       "1377"
      ]
     },
     "execution_count": 19,
     "metadata": {},
     "output_type": "execute_result"
    }
   ],
   "source": [
    "# Number of unique entries so far\n",
    "len(test_set)"
   ]
  },
  {
   "cell_type": "code",
   "execution_count": null,
   "metadata": {},
   "outputs": [],
   "source": []
  }
 ],
 "metadata": {
  "kernelspec": {
   "display_name": "Python 3",
   "language": "python",
   "name": "python3"
  },
  "language_info": {
   "codemirror_mode": {
    "name": "ipython",
    "version": 3
   },
   "file_extension": ".py",
   "mimetype": "text/x-python",
   "name": "python",
   "nbconvert_exporter": "python",
   "pygments_lexer": "ipython3",
   "version": "3.7.3"
  }
 },
 "nbformat": 4,
 "nbformat_minor": 2
}
